{
 "cells": [
  {
   "cell_type": "markdown",
   "id": "c05b88ce",
   "metadata": {},
   "source": [
    "# Tutorial 2: Parameter & Node Management"
   ]
  },
  {
   "cell_type": "markdown",
   "id": "83ec8252",
   "metadata": {},
   "source": [
    "## Prerequisite\n",
    "\n",
    "- Follow the tutorial 1 and understand the main difference between param and node.\n",
    "\n",
    "## Overview\n",
    "\n",
    "Parameters and nodes allow users to impact a flow. Parameters can be **init parameters** (supplied during initialization) or **run parameters** (supplied during flow execution). Their values can be supplied by developers, or are automatically calculated based on other values. Nodes are usually supplied during initialization but can be nested in multiple levels."
   ]
  },
  {
   "cell_type": "code",
   "execution_count": 1,
   "id": "bb02905b",
   "metadata": {},
   "outputs": [],
   "source": [
    "%load_ext autoreload\n",
    "%autoreload 2\n",
    "\n",
    "from finestflow.base import Composable, Param, Node, param, node"
   ]
  },
  {
   "cell_type": "markdown",
   "id": "50901c71",
   "metadata": {},
   "source": [
    "## Declare params\n",
    "\n",
    "Parameters can be declared in a flow as class-level attributes, subject to 2 constraints:\n",
    "\n",
    "- Parameter name cannot starts with underscore `_`. If it starts with underscore, `finenestflow` will not recognize it as flow parameter and it will not show up in the list flow parameters.\n",
    "- Parameter cannot be type annotated as `Composable` or subclass of `Composable`, since they will be treated as node, rather than parameter.\n",
    "\n",
    "Similar to class-level attributes, setting the default level in class will allow the function to have that same value if not supplied."
   ]
  },
  {
   "cell_type": "code",
   "execution_count": 13,
   "id": "23b0fd1e",
   "metadata": {},
   "outputs": [
    {
     "name": "stdout",
     "output_type": "stream",
     "text": [
      "step.a=1; step.b=10; step.c=20\n",
      "step()=31\n",
      "----------\n"
     ]
    }
   ],
   "source": [
    "class Sum(Composable):\n",
    "    a: int\n",
    "    b: int = 10\n",
    "    c: int = 10\n",
    "\n",
    "    def run(self) -> int:\n",
    "        return self.a + self.b + self.c\n",
    "\n",
    "step1 = Sum(a=10, b=20)\n",
    "print(f\"{step.a=}; {step.b=}; {step.c=}\")\n",
    "print(f\"{step()=}\")\n",
    "print(\"-\" * 10)"
   ]
  },
  {
   "cell_type": "markdown",
   "id": "2774021c",
   "metadata": {},
   "source": [
    "`finestflow` allows users to better fine-grainedly declare the param by explicitly use the `Param(...)` construct. It has the following options:\n",
    "\n",
    "- `default=`: declare the default value directly (similar effect with example above).\n",
    "- `default_callback=`: set the default value using callback function.\n",
    "- `help=`: provide human-understandable description of the parameter that can help users easier understand the purpose or how to use the parameter.\n",
    "- `refresh_on_set=True/False`: tell `finestflow` to refresh the function whenever this parameter is set.\n",
    "- `strict_type=True/False`: tell `finestflow` to always make sure that the value supplied to this parameter has the correct type (requires the param to have type annotation).\n",
    "- `depends_on=`: tell `finestflow` that the value of this param depends on the value of other params/nodes, and will recalculate the value of this param whenever those other params/nodes change (requires setting `default_callback`).\n",
    "\n",
    "Computed params can also be declared using the `@param` decorator to mark the default callback function:"
   ]
  },
  {
   "cell_type": "code",
   "execution_count": 18,
   "id": "0ce1b46a",
   "metadata": {},
   "outputs": [
    {
     "name": "stdout",
     "output_type": "stream",
     "text": [
      "step.a=1; step.b=2; step.c=4; step.d=12\n",
      "a + b + c + d: step()=19\n",
      "\n",
      "`c` depends on `b`, `d` depends on `c` After changing `b` = 10, observe the change\n",
      "step.a=1; step.b=10; step.c=20; step.d=60\n",
      "a + b + c + d: step()=91\n",
      "----------\n"
     ]
    }
   ],
   "source": [
    "class Sum(Composable):\n",
    "    a: int = 1\n",
    "    b: int = Param(default=2)\n",
    "    c: int = Param(default_callback=lambda obj, type_: obj.b * 2, depends_on=[\"b\"])\n",
    "\n",
    "    @param(depends_on=[\"c\"])\n",
    "    def d(self):\n",
    "        return self.c * 3\n",
    "\n",
    "    def run(self) -> int:\n",
    "        return self.a + self.b + self.c + self.d\n",
    "\n",
    "step = Sum()\n",
    "print(f\"{step.a=}; {step.b=}; {step.c=}; {step.d=}\")\n",
    "print(f\"a + b + c + d: {step()=}\")\n",
    "print()\n",
    "print(\"`c` depends on `b`, `d` depends on `c` After changing `b` = 10, observe the change\")\n",
    "step.b = 10\n",
    "print(f\"{step.a=}; {step.b=}; {step.c=}; {step.d=}\")\n",
    "print(f\"a + b + c + d: {step()=}\")\n",
    "print(\"-\" * 10)"
   ]
  },
  {
   "cell_type": "markdown",
   "id": "9d40f505",
   "metadata": {},
   "source": [
    "## Declare nodes\n",
    "\n",
    "Nodes can be declared using `Composable` type annotation. However, to declare default value for a node, the user should use `Node(...)` construct to lazily initiate the node. Otherewise, that node will be created as class value, which can unnecessarily be resource intensive. The `Node(...)` construct has following options:\n",
    "\n",
    "- `default=`: the node Composable class to initiate the node as default if the node is not set.\n",
    "- `default_kwargs=`: a dictionary containing key-value params/nodes to use to supply initiate the default node (requires setting `default`).\n",
    "- `default_callback=`: construct default node if the node is not set.\n",
    "- `help=`: provide human-understandable description of the node that can help users easier understand the purpose of this node.\n",
    "- `depends_on=`: tell `finestflow` that this node depends on the value of other params/nodes, and will recalculate the value of this node whenever those other params/nodes change (requires setting `default_callback`)\n",
    "- `input=`: declare the input type annotation of this node execution (if this is blank, and the `default` is set with a Composable class that has input type annotation for its `run` method, then it will automatically supplied here).\n",
    "- `output=`: declare the output type annotation of this node execution (can be auto set if this is blank, and the `default` is set with a Composable class that has output type annotation for its `run` method).\n",
    "\n",
    "Computed nodes can also be declared using the `@node` decorator to mark the default callback function:"
   ]
  },
  {
   "cell_type": "code",
   "execution_count": 35,
   "id": "63af41d1",
   "metadata": {},
   "outputs": [
    {
     "name": "stdout",
     "output_type": "stream",
     "text": [
      "x=28, y=118, z=10\n",
      "step()=156\n",
      "x=28, y=118, z=11\n",
      "step()=157\n",
      "----------\n"
     ]
    }
   ],
   "source": [
    "class Plus(Composable):\n",
    "    a: int\n",
    "    x: Composable\n",
    "    y: Composable = Node(default=Sum, default_kwargs={\"a\": 100})\n",
    "\n",
    "    @node(depends_on=[\"a\"])\n",
    "    def z(self):\n",
    "        return Sum(a=self.a, b=1)\n",
    "        \n",
    "    def run(self) -> int:\n",
    "        x, y, z = self.x(), self.y(), self.z()\n",
    "        print(f\"{x=}, {y=}, {z=}\")\n",
    "        return x + y + z\n",
    "\n",
    "step = Plus(a=1, x=Sum(a=10))\n",
    "print(f\"{step()=}\")\n",
    "step.a = 2\n",
    "print(f\"{step()=}\")\n",
    "print(\"-\" * 10)"
   ]
  },
  {
   "cell_type": "markdown",
   "id": "631ab182",
   "metadata": {},
   "source": [
    "## Inspect params and nodes\n",
    "\n",
    "As the flow grows more complex, knowing which params in which nodes hold which values can easy become a headache.\n",
    "\n",
    "`finestflow` provides method to declare params and nodes. It also provides easy methods to inspect a flow:\n",
    "\n",
    "- `.describe(original=True)`: return the nodes and params declared by a flow.\n",
    "- `.describe(original=False)`: return the nodes and params with the current supplied values.\n",
    "- `.missing()`: show missing params and nodes."
   ]
  },
  {
   "cell_type": "code",
   "execution_count": 36,
   "id": "20b982ea",
   "metadata": {},
   "outputs": [],
   "source": [
    "import yaml\n",
    "step = Plus(a=1)"
   ]
  },
  {
   "cell_type": "markdown",
   "id": "48ac8909",
   "metadata": {},
   "source": [
    "#### Return the nodes and params declared by a flow, contains the default values"
   ]
  },
  {
   "cell_type": "code",
   "execution_count": 37,
   "id": "6c3b102f",
   "metadata": {},
   "outputs": [
    {
     "name": "stdout",
     "output_type": "stream",
     "text": [
      "type: __main__.Plus\n",
      "params:\n",
      "  a: null\n",
      "nodes:\n",
      "  y:\n",
      "    type: __main__.Sum\n",
      "    params:\n",
      "      a: 1\n",
      "      b: 2\n",
      "    nodes: {}\n",
      "  x: null\n",
      "\n",
      "----------\n"
     ]
    }
   ],
   "source": [
    "print(yaml.dump(step.describe(original=True), sort_keys=False))\n",
    "print(\"-\" * 10)"
   ]
  },
  {
   "cell_type": "markdown",
   "id": "68f9ba0e",
   "metadata": {},
   "source": [
    "#### Return the nodes and params with the current values"
   ]
  },
  {
   "cell_type": "code",
   "execution_count": 38,
   "id": "d0a0a998",
   "metadata": {},
   "outputs": [
    {
     "name": "stdout",
     "output_type": "stream",
     "text": [
      "type: __main__.Plus\n",
      "params:\n",
      "  a: 1\n",
      "nodes:\n",
      "  x: null\n",
      "  y:\n",
      "    type: __main__.Sum\n",
      "    params:\n",
      "      a: 100\n",
      "      b: 2\n",
      "      c: 4\n",
      "      d: 12\n",
      "    nodes: {}\n",
      "  z:\n",
      "    type: __main__.Sum\n",
      "    params:\n",
      "      a: 1\n",
      "      b: 1\n",
      "      c: 2\n",
      "      d: 6\n",
      "    nodes: {}\n",
      "\n",
      "----------\n"
     ]
    }
   ],
   "source": [
    "print(yaml.dump(step.describe(original=False), sort_keys=False))\n",
    "print(\"-\" * 10)"
   ]
  },
  {
   "cell_type": "markdown",
   "id": "aad390a0",
   "metadata": {},
   "source": [
    "#### Return missing nodes and params in the pipelines"
   ]
  },
  {
   "cell_type": "code",
   "execution_count": 40,
   "id": "8a303bd9",
   "metadata": {},
   "outputs": [
    {
     "name": "stdout",
     "output_type": "stream",
     "text": [
      "Params: ['a']\n",
      "Nodes: ['x']\n",
      "----------\n"
     ]
    }
   ],
   "source": [
    "step = Plus()\n",
    "missing = step.missing()\n",
    "print(\"Params:\", missing[\"params\"])\n",
    "print(\"Nodes:\", missing[\"nodes\"])\n",
    "print(\"-\" * 10)"
   ]
  },
  {
   "cell_type": "markdown",
   "id": "03fc9d38",
   "metadata": {},
   "source": [
    "#### Return the list of params and nodes names"
   ]
  },
  {
   "cell_type": "code",
   "execution_count": 43,
   "id": "8247a47e",
   "metadata": {},
   "outputs": [
    {
     "name": "stdout",
     "output_type": "stream",
     "text": [
      "{'a': None}\n",
      "['x', 'y', 'z']\n"
     ]
    }
   ],
   "source": [
    "print(step.params)\n",
    "print(step.nodes)"
   ]
  },
  {
   "cell_type": "markdown",
   "id": "377d2cb2",
   "metadata": {},
   "source": [
    "## Set run-time parameters\n",
    "\n",
    "In a complex flow, sometimes run-time parameters change very infrequently. Such run-time parameters appear not only in the root flow but also in nested flows. `finestflow` provide the `set_run(...)` method to set those run-time parameters once. The values set in these methods will persist across different runs of the pipeline. To just pass the params to nested flow without persisting it in different run, set `_ff_run_kwargs` when executing the pipeline."
   ]
  },
  {
   "cell_type": "code",
   "execution_count": 52,
   "id": "c6864a56",
   "metadata": {},
   "outputs": [
    {
     "name": "stdout",
     "output_type": "stream",
     "text": [
      "112\n",
      "----------\n"
     ]
    }
   ],
   "source": [
    "class Add(Composable):\n",
    "    a: int\n",
    "\n",
    "    def run(self, b, c) -> int:\n",
    "        return self.a + b + c\n",
    "\n",
    "\n",
    "class Minus(Composable):\n",
    "    a: int\n",
    "\n",
    "    def run(self, b) -> int:\n",
    "        return self.a - b\n",
    "\n",
    "\n",
    "class Op1(Composable):\n",
    "    x: Composable\n",
    "    y: Composable\n",
    "\n",
    "    def run(self, z):\n",
    "        return self.x() + self.y() + z\n",
    "\n",
    "op = Op1(x=Add(a=5), y=Minus(a=10))\n",
    "op.set_run({\"x.b\": 100, \"y.b\": 5})\n",
    "print(op(z=1, _ff_run_kwargs={\"x.c\": 1}))     # 5 + 100 + 1 + 10 - 5 + 1\n",
    "print(\"-\" * 10)"
   ]
  },
  {
   "cell_type": "code",
   "execution_count": null,
   "id": "576f2902",
   "metadata": {},
   "outputs": [],
   "source": []
  }
 ],
 "metadata": {
  "kernelspec": {
   "display_name": "realflow",
   "language": "python",
   "name": "realflow"
  },
  "language_info": {
   "codemirror_mode": {
    "name": "ipython",
    "version": 3
   },
   "file_extension": ".py",
   "mimetype": "text/x-python",
   "name": "python",
   "nbconvert_exporter": "python",
   "pygments_lexer": "ipython3",
   "version": "3.10.11"
  }
 },
 "nbformat": 4,
 "nbformat_minor": 5
}
