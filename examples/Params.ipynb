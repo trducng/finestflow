{
 "cells": [
  {
   "cell_type": "markdown",
   "id": "c05b88ce",
   "metadata": {},
   "source": [
    "# Parameter Management"
   ]
  },
  {
   "cell_type": "code",
   "execution_count": 1,
   "id": "bb02905b",
   "metadata": {},
   "outputs": [],
   "source": [
    "%load_ext autoreload\n",
    "%autoreload 2\n",
    "\n",
    "from finestflow.base import Composable"
   ]
  },
  {
   "cell_type": "code",
   "execution_count": 2,
   "id": "e8bf086f",
   "metadata": {},
   "outputs": [],
   "source": [
    "class Plus(Composable):\n",
    "    x: int\n",
    "    y: int\n",
    "\n",
    "    def run(self, z):\n",
    "        return (self.x + self.y) * z\n",
    "\n",
    "class Step2(Composable):\n",
    "    a: int\n",
    "    b: int\n",
    "\n",
    "    def run(self):\n",
    "        return self.a * self.b\n",
    "\n",
    "\n",
    "def step3(a, b):\n",
    "    return a + b\n",
    "\n",
    "\n",
    "class Step4:\n",
    "    def __init__(self, a, b):\n",
    "        self.a = a\n",
    "        self.b = b\n",
    "\n",
    "    def calculate(self, c):\n",
    "        return self.a + self.b + c\n",
    "\n",
    "    \n",
    "from typing import Union, Optional\n",
    "class Workflow(Composable):\n",
    "    param1: int\n",
    "    param2: int\n",
    "    step5: Composable\n",
    "    step6: Union[Composable, int]\n",
    "    step7: Optional[Composable]\n",
    "\n",
    "    def _initialize_nodes(self):\n",
    "        self.step1 = Plus(x=10, y=20)\n",
    "        self.step2 = Step2(a=self.param1, b=self.param2)\n",
    "        self.step3 = step3\n",
    "        self.step4 = Step4(10, 10)\n",
    "\n",
    "    def run(self, x):\n",
    "        a = self.step1(x, _ff_name=\"step1\")\n",
    "        a += self.step2(_ff_name=\"step2\")\n",
    "        a += self.step3(a, x, _ff_name=\"step3\")\n",
    "        a += self.step4.calculate(x, _ff_name=\"step4\")\n",
    "        a += self.step5(a, x, _ff_name=\"step5\")\n",
    "        return a\n",
    "\n",
    "class Workflow2(Workflow):\n",
    "    param1: int\n",
    "    param3: str\n",
    "    _keywords = [\"last_run\", \"hehe\"]\n"
   ]
  },
  {
   "cell_type": "code",
   "execution_count": 3,
   "id": "bd74a113",
   "metadata": {},
   "outputs": [],
   "source": [
    "params, nodes = Workflow2._collect_registered_params_and_nodes()"
   ]
  },
  {
   "cell_type": "code",
   "execution_count": 4,
   "id": "b1741878",
   "metadata": {},
   "outputs": [
    {
     "data": {
      "text/plain": [
       "['param1', 'param2', 'param3']"
      ]
     },
     "execution_count": 4,
     "metadata": {},
     "output_type": "execute_result"
    }
   ],
   "source": [
    "params"
   ]
  },
  {
   "cell_type": "code",
   "execution_count": 5,
   "id": "b36a96d3",
   "metadata": {},
   "outputs": [
    {
     "data": {
      "text/plain": [
       "['step5', 'step6', 'step7']"
      ]
     },
     "execution_count": 5,
     "metadata": {},
     "output_type": "execute_result"
    }
   ],
   "source": [
    "nodes"
   ]
  },
  {
   "cell_type": "code",
   "execution_count": 6,
   "id": "773f7008",
   "metadata": {},
   "outputs": [
    {
     "data": {
      "text/plain": [
       "'Workflow(param1=2, param2=5)'"
      ]
     },
     "execution_count": 6,
     "metadata": {},
     "output_type": "execute_result"
    }
   ],
   "source": [
    "class Plus(Composable):\n",
    "    y: int\n",
    "    x: int = 10\n",
    "\n",
    "    def run(self, z):\n",
    "        return (self.x + self.y) * z\n",
    "Plus.__dict__\n",
    "\n",
    "\n",
    "Workflow.__dict__\n",
    "\n",
    "\n",
    "workflow = Workflow(param1=2, param2=5, step5=step3)\n",
    "repr(workflow)"
   ]
  },
  {
   "cell_type": "code",
   "execution_count": 11,
   "id": "fe707d15",
   "metadata": {},
   "outputs": [
    {
     "data": {
      "text/plain": [
       "{'type': '__main__.Workflow',\n",
       " 'params': {'param1': 2, 'param2': 5},\n",
       " 'nodes': {'step5': {'type': 'finestflow.base.ComposableProxy',\n",
       "   'params': {'ff_original_obj': '__main__.step3'},\n",
       "   'nodes': {}},\n",
       "  'step6': None,\n",
       "  'step7': {'type': 'finestflow.base.ComposableProxy',\n",
       "   'params': {'ff_original_obj': '__main__.step3'},\n",
       "   'nodes': {}}}}"
      ]
     },
     "execution_count": 11,
     "metadata": {},
     "output_type": "execute_result"
    }
   ],
   "source": [
    "workflow._info()"
   ]
  },
  {
   "cell_type": "code",
   "execution_count": 8,
   "id": "f61899e3",
   "metadata": {},
   "outputs": [],
   "source": [
    "workflow.step8 = step3"
   ]
  },
  {
   "cell_type": "code",
   "execution_count": 10,
   "id": "3dcc9176",
   "metadata": {},
   "outputs": [],
   "source": [
    "workflow.step7 = step3"
   ]
  },
  {
   "cell_type": "code",
   "execution_count": 10,
   "id": "301e5b79",
   "metadata": {},
   "outputs": [
    {
     "data": {
      "text/plain": [
       "finestflow.base.ComposableProxy"
      ]
     },
     "execution_count": 10,
     "metadata": {},
     "output_type": "execute_result"
    }
   ],
   "source": [
    "type(workflow.step7)"
   ]
  }
 ],
 "metadata": {
  "kernelspec": {
   "display_name": "knowledge-hub",
   "language": "python",
   "name": "knowledge-hub"
  },
  "language_info": {
   "codemirror_mode": {
    "name": "ipython",
    "version": 3
   },
   "file_extension": ".py",
   "mimetype": "text/x-python",
   "name": "python",
   "nbconvert_exporter": "python",
   "pygments_lexer": "ipython3",
   "version": "3.9.16"
  }
 },
 "nbformat": 4,
 "nbformat_minor": 5
}
