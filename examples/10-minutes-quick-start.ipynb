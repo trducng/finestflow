{
 "cells": [
  {
   "cell_type": "markdown",
   "id": "9923ac4b",
   "metadata": {},
   "source": [
    "# 10-minute Quick Start\n",
    "\n",
    "Installation:"
   ]
  },
  {
   "cell_type": "code",
   "execution_count": 1,
   "id": "8e72cacb",
   "metadata": {},
   "outputs": [],
   "source": [
    "%load_ext autoreload\n",
    "%autoreload 2\n",
    "\n",
    "from theflow.base import Composable"
   ]
  },
  {
   "cell_type": "code",
   "execution_count": 2,
   "id": "daebde00",
   "metadata": {},
   "outputs": [],
   "source": [
    "class Plus(Composable):\n",
    "    x: int\n",
    "    y: int\n",
    "\n",
    "    def run(self, z):\n",
    "        return (self.x + self.y) * z\n",
    "\n",
    "class Step2(Composable):\n",
    "    a: int\n",
    "    b: int\n",
    "\n",
    "    def run(self):\n",
    "        return self.a * self.b\n",
    "\n",
    "\n",
    "def step3(a, b):\n",
    "    return a + b\n",
    "\n",
    "\n",
    "class Step4:\n",
    "    def __init__(self, a, b):\n",
    "        self.a = a\n",
    "        self.b = b\n",
    "\n",
    "    def calculate(self, c):\n",
    "        return self.a + self.b + c"
   ]
  },
  {
   "cell_type": "code",
   "execution_count": 3,
   "id": "cd16b4b6",
   "metadata": {},
   "outputs": [],
   "source": [
    "class Workflow(Composable):\n",
    "    param1: int\n",
    "    param2: int\n",
    "    step1: Composable\n",
    "    step2: Composable\n",
    "    step3: Composable\n",
    "    step4: Composable\n",
    "    step5: Composable\n",
    "\n",
    "    def _initialize_nodes(self):\n",
    "        self.step1 = Plus(x=10, y=20)\n",
    "        self.step2 = Step2(a=self.param1, b=self.param2)\n",
    "        self.step3 = step3\n",
    "        self.step4 = Step4(10, 10)\n",
    "\n",
    "    def run(self, x):\n",
    "        a = self.step1(x, _ff_name=\"step1\")\n",
    "        a += self.step2(_ff_name=\"step2\")\n",
    "        a += self.step3(a, x, _ff_name=\"step3\")\n",
    "        a += self.step4.calculate(x, _ff_name=\"step4\")\n",
    "        a += self.step5(a, x, _ff_name=\"step5\")\n",
    "        return a"
   ]
  },
  {
   "cell_type": "code",
   "execution_count": 4,
   "id": "9007b8fe",
   "metadata": {},
   "outputs": [],
   "source": [
    "workflow = Workflow(param1=2, param2=5, step5=step3)"
   ]
  },
  {
   "cell_type": "code",
   "execution_count": 5,
   "id": "606f3311",
   "metadata": {},
   "outputs": [
    {
     "name": "stdout",
     "output_type": "stream",
     "text": [
      "- output=1330\n",
      "- type(output)=<class 'int'>\n"
     ]
    }
   ],
   "source": [
    "output = workflow(10)\n",
    "print(f\"- {output=}\")\n",
    "print(f\"- {type(output)=}\")"
   ]
  },
  {
   "cell_type": "code",
   "execution_count": 6,
   "id": "d4dd02bd",
   "metadata": {},
   "outputs": [
    {
     "data": {
      "text/plain": [
       "{'__global_key__': {'run_id': '1692444254'},\n",
       " '': {},\n",
       " '__progress__': {'.step1': {'input': {'args': (10,),\n",
       "    'kwargs': {'_ff_name': 'step1'}},\n",
       "   'output': 300,\n",
       "   'status': 'run'},\n",
       "  '.step2': {'input': {'args': (), 'kwargs': {'_ff_name': 'step2'}},\n",
       "   'output': 10,\n",
       "   'status': 'run'},\n",
       "  '.step3': {'input': {'args': (310, 10), 'kwargs': {'_ff_name': 'step3'}},\n",
       "   'output': 320,\n",
       "   'status': 'run'},\n",
       "  '.step4': {'input': {'args': (10,), 'kwargs': {'_ff_name': 'step4'}},\n",
       "   'output': 30,\n",
       "   'status': 'run'},\n",
       "  '.step5': {'input': {'args': (660, 10), 'kwargs': {'_ff_name': 'step5'}},\n",
       "   'output': 670,\n",
       "   'status': 'run'},\n",
       "  '': {'input': {'args': (10,), 'kwargs': {'_ff_name': ''}},\n",
       "   'output': 1330,\n",
       "   'status': 'run'}},\n",
       " '.step1': {},\n",
       " '.step2': {}}"
      ]
     },
     "execution_count": 6,
     "metadata": {},
     "output_type": "execute_result"
    }
   ],
   "source": [
    "workflow.context._msg_store"
   ]
  },
  {
   "cell_type": "code",
   "execution_count": 7,
   "id": "e239fbf4",
   "metadata": {},
   "outputs": [
    {
     "data": {
      "text/plain": [
       "{'param1': 2, 'param2': 5}"
      ]
     },
     "execution_count": 7,
     "metadata": {},
     "output_type": "execute_result"
    }
   ],
   "source": [
    "workflow.params"
   ]
  },
  {
   "cell_type": "code",
   "execution_count": 8,
   "id": "77349c35",
   "metadata": {},
   "outputs": [
    {
     "data": {
      "text/plain": [
       "320"
      ]
     },
     "execution_count": 8,
     "metadata": {},
     "output_type": "execute_result"
    }
   ],
   "source": [
    "workflow.last_run.output(\".step3\")"
   ]
  },
  {
   "cell_type": "code",
   "execution_count": 9,
   "id": "63644239",
   "metadata": {},
   "outputs": [
    {
     "data": {
      "text/plain": [
       "{'.step1': {'input': {'args': (10,), 'kwargs': {'_ff_name': 'step1'}},\n",
       "  'output': 300,\n",
       "  'status': 'run'},\n",
       " '.step2': {'input': {'args': (), 'kwargs': {'_ff_name': 'step2'}},\n",
       "  'output': 10,\n",
       "  'status': 'run'},\n",
       " '.step3': {'input': {'args': (310, 10), 'kwargs': {'_ff_name': 'step3'}},\n",
       "  'output': 320,\n",
       "  'status': 'run'},\n",
       " '.step4': {'input': {'args': (10,), 'kwargs': {'_ff_name': 'step4'}},\n",
       "  'output': 30,\n",
       "  'status': 'run'},\n",
       " '.step5': {'input': {'args': (660, 10), 'kwargs': {'_ff_name': 'step5'}},\n",
       "  'output': 670,\n",
       "  'status': 'run'},\n",
       " '': {'input': {'args': (10,), 'kwargs': {'_ff_name': ''}},\n",
       "  'output': 1330,\n",
       "  'status': 'run'}}"
      ]
     },
     "execution_count": 9,
     "metadata": {},
     "output_type": "execute_result"
    }
   ],
   "source": [
    "workflow.last_run.logs()"
   ]
  },
  {
   "cell_type": "code",
   "execution_count": null,
   "id": "8aef541a",
   "metadata": {},
   "outputs": [],
   "source": []
  }
 ],
 "metadata": {
  "kernelspec": {
   "display_name": "realflow",
   "language": "python",
   "name": "realflow"
  },
  "language_info": {
   "codemirror_mode": {
    "name": "ipython",
    "version": 3
   },
   "file_extension": ".py",
   "mimetype": "text/x-python",
   "name": "python",
   "nbconvert_exporter": "python",
   "pygments_lexer": "ipython3",
   "version": "3.10.11"
  }
 },
 "nbformat": 4,
 "nbformat_minor": 5
}
