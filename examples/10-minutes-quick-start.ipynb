{
 "cells": [
  {
   "cell_type": "markdown",
   "id": "9923ac4b",
   "metadata": {},
   "source": [
    "# 10-minute quick start\n",
    "\n",
    "Installation:"
   ]
  },
  {
   "cell_type": "code",
   "execution_count": 1,
   "id": "8e72cacb",
   "metadata": {},
   "outputs": [],
   "source": [
    "%load_ext autoreload\n",
    "%autoreload 2\n",
    "\n",
    "from finestflow.base import Composable"
   ]
  },
  {
   "cell_type": "code",
   "execution_count": 2,
   "id": "daebde00",
   "metadata": {},
   "outputs": [],
   "source": [
    "class Plus(Composable):\n",
    "    x: int\n",
    "    y: int\n",
    "\n",
    "    def run(self, z):\n",
    "        return (self.x + self.y) * z\n",
    "\n",
    "class Step2(Composable):\n",
    "    a: int\n",
    "    b: int\n",
    "\n",
    "    def run(self):\n",
    "        return self.a * self.b\n",
    "\n",
    "\n",
    "def step3(a, b):\n",
    "    return a + b\n",
    "\n",
    "\n",
    "class Step4:\n",
    "    def __init__(self, a, b):\n",
    "        self.a = a\n",
    "        self.b = b\n",
    "\n",
    "    def calculate(self, c):\n",
    "        return self.a + self.b + c"
   ]
  },
  {
   "cell_type": "code",
   "execution_count": 3,
   "id": "cd16b4b6",
   "metadata": {},
   "outputs": [],
   "source": [
    "class Workflow(Composable):\n",
    "    param1: int\n",
    "    param2: int\n",
    "    step5: Composable\n",
    "\n",
    "    def initialize_nodes(self):\n",
    "        self.step1 = Plus(x=10, y=20)\n",
    "        self.step2 = Step2(a=self.param1, b=self.param2)\n",
    "        self.step3 = step3\n",
    "        self.step4 = Step4(10, 10)\n",
    "\n",
    "    def run(self, x):\n",
    "        a = self.step1(x, _ff_name=\"step1\")\n",
    "        a += self.step2(_ff_name=\"step2\")\n",
    "        a += self.step3(a, x, _ff_name=\"step3\")\n",
    "        a += self.step4.calculate(x, _ff_name=\"step4\")\n",
    "        a += self.step5(a, x, _ff_name=\"step5\")\n",
    "        return a"
   ]
  },
  {
   "cell_type": "code",
   "execution_count": 4,
   "id": "9007b8fe",
   "metadata": {},
   "outputs": [],
   "source": [
    "workflow = Workflow(param1=2, param2=5, step5=step3)"
   ]
  },
  {
   "cell_type": "code",
   "execution_count": 5,
   "id": "606f3311",
   "metadata": {},
   "outputs": [
    {
     "name": "stdout",
     "output_type": "stream",
     "text": [
      "- output=1330\n",
      "- type(output)=<class 'int'>\n"
     ]
    }
   ],
   "source": [
    "output = workflow(10)\n",
    "print(f\"- {output=}\")\n",
    "print(f\"- {type(output)=}\")"
   ]
  },
  {
   "cell_type": "code",
   "execution_count": 8,
   "id": "d4dd02bd",
   "metadata": {},
   "outputs": [
    {
     "data": {
      "text/plain": [
       "{'__global_key__': {'run_id': '1690397696'},\n",
       " '': {},\n",
       " '__progress__': {'.step1': {'input': {'args': (10,),\n",
       "    'kwargs': {'_ff_name': 'step1'}},\n",
       "   'output': 300,\n",
       "   'status': 'run'},\n",
       "  '.step2': {'input': {'args': (), 'kwargs': {'_ff_name': 'step2'}},\n",
       "   'output': 10,\n",
       "   'status': 'run'},\n",
       "  '.step3': {'input': {'args': (310, 10), 'kwargs': {'_ff_name': 'step3'}},\n",
       "   'output': 320,\n",
       "   'status': 'run'},\n",
       "  '.step4': {'input': {'args': (10,), 'kwargs': {'_ff_name': 'step4'}},\n",
       "   'output': 30,\n",
       "   'status': 'run'},\n",
       "  '.step5': {'input': {'args': (660, 10), 'kwargs': {'_ff_name': 'step5'}},\n",
       "   'output': 670,\n",
       "   'status': 'run'},\n",
       "  '': {'input': {'args': (10,), 'kwargs': {'_ff_name': ''}},\n",
       "   'output': 1330,\n",
       "   'status': 'run'}},\n",
       " '.step1': {},\n",
       " '.step2': {}}"
      ]
     },
     "execution_count": 8,
     "metadata": {},
     "output_type": "execute_result"
    }
   ],
   "source": [
    "workflow.context._msg_store"
   ]
  },
  {
   "cell_type": "code",
   "execution_count": 7,
   "id": "e239fbf4",
   "metadata": {},
   "outputs": [
    {
     "data": {
      "text/plain": [
       "{'param1': 2, 'param2': 5}"
      ]
     },
     "execution_count": 7,
     "metadata": {},
     "output_type": "execute_result"
    }
   ],
   "source": [
    "workflow.params"
   ]
  },
  {
   "cell_type": "code",
   "execution_count": 16,
   "id": "77349c35",
   "metadata": {},
   "outputs": [
    {
     "data": {
      "text/plain": [
       "320"
      ]
     },
     "execution_count": 16,
     "metadata": {},
     "output_type": "execute_result"
    }
   ],
   "source": [
    "workflow.last_run.output(\".step3\")"
   ]
  },
  {
   "cell_type": "code",
   "execution_count": 3,
   "id": "bfe28bea",
   "metadata": {},
   "outputs": [],
   "source": [
    "from typing import Optional\n",
    "\n",
    "class Plus(Step):\n",
    "    x: int\n",
    "    y: Optional[int] = None\n",
    "\n",
    "    def run(self, z):\n",
    "        print(self.x, self.y)\n",
    "        return (self.x + self.y) * z\n"
   ]
  },
  {
   "cell_type": "code",
   "execution_count": 4,
   "id": "4c0bef26",
   "metadata": {},
   "outputs": [
    {
     "name": "stdout",
     "output_type": "stream",
     "text": [
      "Plus(x=100, y=20)\n",
      "100 20\n"
     ]
    },
    {
     "data": {
      "text/plain": [
       "240"
      ]
     },
     "execution_count": 4,
     "metadata": {},
     "output_type": "execute_result"
    }
   ],
   "source": [
    "p = Plus(x=100, y=20)\n",
    "print(repr(p))\n",
    "p.run(2)"
   ]
  },
  {
   "cell_type": "code",
   "execution_count": 9,
   "id": "d14dec22",
   "metadata": {},
   "outputs": [
    {
     "name": "stdout",
     "output_type": "stream",
     "text": [
      "100 20\n"
     ]
    },
    {
     "data": {
      "text/plain": [
       "240"
      ]
     },
     "execution_count": 9,
     "metadata": {},
     "output_type": "execute_result"
    }
   ],
   "source": [
    "p(2, _ff_name=\"hehe\")"
   ]
  },
  {
   "cell_type": "code",
   "execution_count": 11,
   "id": "c9ea69e6",
   "metadata": {},
   "outputs": [
    {
     "data": {
      "text/plain": [
       "{'__global_key__': {},\n",
       " '__progress__': {'hehe': {'input': {'args': (2,),\n",
       "    'kwargs': {'_ff_name': 'hehe'}},\n",
       "   'output': 240,\n",
       "   'status': 'run'}}}"
      ]
     },
     "execution_count": 11,
     "metadata": {},
     "output_type": "execute_result"
    }
   ],
   "source": [
    "p.context._msg_store"
   ]
  },
  {
   "cell_type": "code",
   "execution_count": 13,
   "id": "63644239",
   "metadata": {},
   "outputs": [
    {
     "data": {
      "text/plain": [
       "{'hehe': {'input': {'args': (2,), 'kwargs': {'_ff_name': 'hehe'}},\n",
       "  'output': 240,\n",
       "  'status': 'run'}}"
      ]
     },
     "execution_count": 13,
     "metadata": {},
     "output_type": "execute_result"
    }
   ],
   "source": [
    "p.last_run.logs()"
   ]
  },
  {
   "cell_type": "code",
   "execution_count": null,
   "id": "7839ec62",
   "metadata": {},
   "outputs": [],
   "source": []
  },
  {
   "cell_type": "code",
   "execution_count": 24,
   "id": "38f0abdd",
   "metadata": {},
   "outputs": [],
   "source": [
    "from typing import Optional, Callable\n",
    "\n",
    "class Thought(Step):\n",
    "\n",
    "    base_template: str\n",
    "    base_format: Optional[dict] = None   # pyright: reportGeneralTypeIssues=false\n",
    "    parser: Optional[Callable] = None\n",
    "\n",
    "    def __init__(self, **params):\n",
    "        super().__init__(**params)\n",
    "        if self.base_format is None:\n",
    "            self.base_format: dict = {}\n",
    "\n",
    "    def format(self, **kwargs):\n",
    "        self.base_format.update(kwargs)\n",
    "        return self.template\n",
    "\n",
    "    @property\n",
    "    def template(self):\n",
    "        remaining = {\n",
    "            each: f\"{{{each}}}\" for each in set(self.fieldnames) - set(self.base_format.keys())\n",
    "        }\n",
    "        return self.base_template.format(**self.base_format, **remaining)\n",
    "\n",
    "    @property\n",
    "    def fieldnames(self):\n",
    "        from string import Formatter\n",
    "\n",
    "        return [\n",
    "            fname for _, fname, _, _ in Formatter().parse(self.base_template) if fname\n",
    "        ]\n",
    "\n",
    "    def run(self, **kwargs):\n",
    "        # response: openai.openai_object.OpenAIObject = openai.ChatCompletion.create(\n",
    "        #     engine=\"gpt35turbo\",\n",
    "        #     temperature=0,\n",
    "        #     request_timeout=60,\n",
    "        #     messages=[\n",
    "        #         {\n",
    "        #             \"role\": \"user\",\n",
    "        #             \"content\": self.format(**kwargs),\n",
    "        #         }\n",
    "        #     ],\n",
    "        # )\n",
    "        # text: str = response[\"choices\"][0][\"message\"][\"content\"]\n",
    "        text = \"hahaha\"\n",
    "        if self.parser is not None:\n",
    "            text = self.parser(text)\n",
    "        return text\n"
   ]
  },
  {
   "cell_type": "code",
   "execution_count": 26,
   "id": "9956fedf",
   "metadata": {},
   "outputs": [],
   "source": [
    "thought = Thought(\n",
    "    base_template=\"HEHEHEHE {abc} and {xyz}\"\n",
    ")"
   ]
  },
  {
   "cell_type": "code",
   "execution_count": 27,
   "id": "a175ecbd",
   "metadata": {},
   "outputs": [
    {
     "data": {
      "text/plain": [
       "'HEHEHEHE hihihihi and {xyz}'"
      ]
     },
     "execution_count": 27,
     "metadata": {},
     "output_type": "execute_result"
    }
   ],
   "source": [
    "thought.format(abc=\"hihihihi\")"
   ]
  },
  {
   "cell_type": "code",
   "execution_count": 28,
   "id": "2d9d50ae",
   "metadata": {},
   "outputs": [
    {
     "data": {
      "text/plain": [
       "'HEHEHEHE hihihihi and {xyz}'"
      ]
     },
     "execution_count": 28,
     "metadata": {},
     "output_type": "execute_result"
    }
   ],
   "source": [
    "thought.template"
   ]
  },
  {
   "cell_type": "code",
   "execution_count": 29,
   "id": "bb25499e",
   "metadata": {},
   "outputs": [
    {
     "data": {
      "text/plain": [
       "'HEHEHEHE {abc} and {xyz}'"
      ]
     },
     "execution_count": 29,
     "metadata": {},
     "output_type": "execute_result"
    }
   ],
   "source": [
    "thought.base_template"
   ]
  },
  {
   "cell_type": "code",
   "execution_count": 30,
   "id": "3f87d050",
   "metadata": {},
   "outputs": [
    {
     "data": {
      "text/plain": [
       "{'abc': 'hihihihi'}"
      ]
     },
     "execution_count": 30,
     "metadata": {},
     "output_type": "execute_result"
    }
   ],
   "source": [
    "thought.base_format"
   ]
  },
  {
   "cell_type": "code",
   "execution_count": 31,
   "id": "f68221f5",
   "metadata": {},
   "outputs": [
    {
     "data": {
      "text/plain": [
       "{'base_template': 'HEHEHEHE {abc} and {xyz}'}"
      ]
     },
     "execution_count": 31,
     "metadata": {},
     "output_type": "execute_result"
    }
   ],
   "source": [
    "thought.params"
   ]
  },
  {
   "cell_type": "code",
   "execution_count": null,
   "id": "8aef541a",
   "metadata": {},
   "outputs": [],
   "source": []
  }
 ],
 "metadata": {
  "kernelspec": {
   "display_name": "knowledge-hub",
   "language": "python",
   "name": "knowledge-hub"
  },
  "language_info": {
   "codemirror_mode": {
    "name": "ipython",
    "version": 3
   },
   "file_extension": ".py",
   "mimetype": "text/x-python",
   "name": "python",
   "nbconvert_exporter": "python",
   "pygments_lexer": "ipython3",
   "version": "3.9.16"
  }
 },
 "nbformat": 4,
 "nbformat_minor": 5
}
