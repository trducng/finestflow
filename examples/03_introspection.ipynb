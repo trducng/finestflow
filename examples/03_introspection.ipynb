{
 "cells": [
  {
   "cell_type": "markdown",
   "id": "7cdd8a38-5987-457c-b023-8e48f9392777",
   "metadata": {},
   "source": [
    "# Tutorial 3: Introspect Function"
   ]
  },
  {
   "cell_type": "markdown",
   "id": "081be466-dd7f-44da-8329-3b8606b99472",
   "metadata": {},
   "source": [
    "## Overview\n",
    "\n",
    "While constructing and using a flow, it's convenient to introspect the inner architecture of the flow to understand how it work and to ensure that we plug-n-play the right component into the flow. This capability can prove even more usefulness for those who don't build the flow and just use those that are packaged and distributed by other people.\n",
    "\n",
    "Any flow constructed with `theflow.Function` allow users to:\n",
    "\n",
    "- View values of all current nodes and params.\n",
    "- View the definition of any nodes and params.\n",
    "- Check if any object is compatible with the flow and can be plugged into the flow.\n",
    "- Visualize the flow architecture."
   ]
  },
  {
   "cell_type": "markdown",
   "id": "3c4942dd-598e-4528-9713-56bfcf034285",
   "metadata": {},
   "source": [
    "Suppose we have a flow `Plus` that consists of component `Sum1` and `Sum2` as follow:"
   ]
  },
  {
   "cell_type": "code",
   "execution_count": 1,
   "id": "bb02905b",
   "metadata": {},
   "outputs": [],
   "source": [
    "import yaml\n",
    "from pprint import pprint\n",
    "\n",
    "from theflow import Function, Param, Node\n",
    "\n",
    "\n",
    "class Sum1(Function):\n",
    "    a: int\n",
    "    b: int = 10\n",
    "    c: int = 10\n",
    "\n",
    "    def run(self) -> int:\n",
    "        return self.a + self.b + self.c\n",
    "\n",
    "\n",
    "class Sum2(Function):\n",
    "    a: int\n",
    "\n",
    "    def run(self, a, b: int, *args, **kwargs) -> int:\n",
    "        return self.a + a + b\n",
    "\n",
    "\n",
    "class Plus(Function):\n",
    "    a: int\n",
    "    x: Function\n",
    "    y: Function = Node(default=Sum1.withx(a=100))\n",
    "    m: Function = Node(default=Sum2.withx(a=100))\n",
    "        \n",
    "    def run(self) -> int:\n",
    "        x, y, m = self.x(), self.y(), self.m()\n",
    "        print(f\"{x=}, {y=}, {z=}\")\n",
    "        return x + y + z"
   ]
  },
  {
   "cell_type": "markdown",
   "id": "742d2f6a-6423-4500-b6d9-f6f719e8fe9b",
   "metadata": {},
   "source": [
    "## View values of current nodes and params\n",
    "\n",
    "`theflow` allows viewing all values of current nodes and params with `.describe()`. This method returns a dictionary contains name and value of all nodes and params."
   ]
  },
  {
   "cell_type": "code",
   "execution_count": 2,
   "id": "63af41d1",
   "metadata": {},
   "outputs": [
    {
     "name": "stdout",
     "output_type": "stream",
     "text": [
      "type: __main__.Plus\n",
      "params:\n",
      "  a:\n",
      "    __type__: theflow.base.ParamAttr\n",
      "    default:\n",
      "      __type__: theflow.base.unset_\n",
      "    default_callback:\n",
      "      __type__: theflow.base.unset_\n",
      "    auto_callback:\n",
      "      __type__: theflow.base.unset_\n",
      "    help: ''\n",
      "    depends_on: null\n",
      "    cache: false\n",
      "    refresh_on_set: false\n",
      "    strict_type: false\n",
      "nodes:\n",
      "  m:\n",
      "    __type__: theflow.base.NodeAttr\n",
      "    default:\n",
      "      type: __main__.Sum2\n",
      "      params:\n",
      "        a:\n",
      "          __type__: theflow.base.ParamAttr\n",
      "          default:\n",
      "            __type__: theflow.base.unset_\n",
      "          default_callback:\n",
      "            __type__: theflow.base.unset_\n",
      "          auto_callback:\n",
      "            __type__: theflow.base.unset_\n",
      "          help: ''\n",
      "          depends_on: null\n",
      "          cache: false\n",
      "          refresh_on_set: false\n",
      "          strict_type: false\n",
      "      nodes: {}\n",
      "    default_callback:\n",
      "      __type__: theflow.base.unset_\n",
      "    auto_callback:\n",
      "      __type__: theflow.base.unset_\n",
      "    help: ''\n",
      "    depends_on: null\n",
      "    cache: false\n",
      "    input:\n",
      "      __type__: theflow.base.unset_\n",
      "    output:\n",
      "      __type__: theflow.base.unset_\n",
      "    default_kwargs:\n",
      "      a: 100\n",
      "  x:\n",
      "    __type__: theflow.base.NodeAttr\n",
      "    default:\n",
      "      __type__: theflow.base.unset_\n",
      "    default_callback:\n",
      "      __type__: theflow.base.unset_\n",
      "    auto_callback:\n",
      "      __type__: theflow.base.unset_\n",
      "    help: ''\n",
      "    depends_on: null\n",
      "    cache: false\n",
      "    input:\n",
      "      __type__: theflow.base.unset_\n",
      "    output:\n",
      "      __type__: theflow.base.unset_\n",
      "  y:\n",
      "    __type__: theflow.base.NodeAttr\n",
      "    default:\n",
      "      type: __main__.Sum1\n",
      "      params:\n",
      "        a:\n",
      "          __type__: theflow.base.ParamAttr\n",
      "          default:\n",
      "            __type__: theflow.base.unset_\n",
      "          default_callback:\n",
      "            __type__: theflow.base.unset_\n",
      "          auto_callback:\n",
      "            __type__: theflow.base.unset_\n",
      "          help: ''\n",
      "          depends_on: null\n",
      "          cache: false\n",
      "          refresh_on_set: false\n",
      "          strict_type: false\n",
      "        b:\n",
      "          __type__: theflow.base.ParamAttr\n",
      "          default: 10\n",
      "          default_callback:\n",
      "            __type__: theflow.base.unset_\n",
      "          auto_callback:\n",
      "            __type__: theflow.base.unset_\n",
      "          help: ''\n",
      "          depends_on: null\n",
      "          cache: false\n",
      "          refresh_on_set: false\n",
      "          strict_type: false\n",
      "        c:\n",
      "          __type__: theflow.base.ParamAttr\n",
      "          default: 10\n",
      "          default_callback:\n",
      "            __type__: theflow.base.unset_\n",
      "          auto_callback:\n",
      "            __type__: theflow.base.unset_\n",
      "          help: ''\n",
      "          depends_on: null\n",
      "          cache: false\n",
      "          refresh_on_set: false\n",
      "          strict_type: false\n",
      "      nodes: {}\n",
      "    default_callback:\n",
      "      __type__: theflow.base.unset_\n",
      "    auto_callback:\n",
      "      __type__: theflow.base.unset_\n",
      "    help: ''\n",
      "    depends_on: null\n",
      "    cache: false\n",
      "    input:\n",
      "      __type__: theflow.base.unset_\n",
      "    output:\n",
      "      __type__: theflow.base.unset_\n",
      "    default_kwargs:\n",
      "      a: 100\n",
      "\n"
     ]
    }
   ],
   "source": [
    "step = Plus(a=1, x=Sum1(a=10))\n",
    "print(yaml.dump(step.describe(), sort_keys=False))"
   ]
  },
  {
   "cell_type": "markdown",
   "id": "abb89330-ba0a-4a1f-953a-890a70d84bed",
   "metadata": {},
   "source": [
    "## View the definition of any node and param\n",
    "\n",
    "`theflow` allows getting the definition of a node or a param with `.specs(...)`:"
   ]
  },
  {
   "cell_type": "code",
   "execution_count": 3,
   "id": "a5b5e9ad-841c-41bb-a96e-8d48467cc400",
   "metadata": {},
   "outputs": [
    {
     "name": "stdout",
     "output_type": "stream",
     "text": [
      "Node m\n",
      "{'__type__': 'theflow.base.NodeAttr',\n",
      " 'auto_callback': <theflow.base.unset_ object at 0x7f325057a4f0>,\n",
      " 'cache': False,\n",
      " 'default': <theflow.utils.modules.lazy object at 0x7f32506b1d60>,\n",
      " 'default_callback': <theflow.base.unset_ object at 0x7f325057a4f0>,\n",
      " 'depends_on': None,\n",
      " 'help': '',\n",
      " 'input': <theflow.base.unset_ object at 0x7f325057a4f0>,\n",
      " 'output': <theflow.base.unset_ object at 0x7f325057a4f0>}\n",
      "----------\n",
      "Param x.b\n",
      "{'__type__': 'theflow.base.ParamAttr',\n",
      " 'auto_callback': <theflow.base.unset_ object at 0x7f325057a4f0>,\n",
      " 'cache': False,\n",
      " 'default': 10,\n",
      " 'default_callback': <theflow.base.unset_ object at 0x7f325057a4f0>,\n",
      " 'depends_on': None,\n",
      " 'help': '',\n",
      " 'refresh_on_set': False,\n",
      " 'strict_type': False}\n",
      "----------\n"
     ]
    }
   ],
   "source": [
    "print(\"Node m\")\n",
    "pprint(step.specs(\"m\"))\n",
    "print(\"-\" * 10)\n",
    "print(\"Param x.b\")\n",
    "pprint(step.specs(\"x.b\"))\n",
    "print(\"-\" * 10)"
   ]
  },
  {
   "cell_type": "markdown",
   "id": "b5c499b4-ffdf-4d47-a805-6016a37fbbf8",
   "metadata": {},
   "source": [
    "## Check if any object is compatible with the flow\n",
    "\n",
    "`theflow` will inspect the method `.run`'s input and output signature to determine if a component can be plug-n-play to an existing flow."
   ]
  },
  {
   "cell_type": "code",
   "execution_count": 4,
   "id": "f606264a-8f81-4ff4-8827-da702d7e328f",
   "metadata": {},
   "outputs": [
    {
     "name": "stdout",
     "output_type": "stream",
     "text": [
      "step.is_compatible('m', WrongInputName)=True\n",
      "step.is_compatible('m', MissingInputVariable)=True\n",
      "step.is_compatible('m', WrongInputType)=True\n",
      "step.is_compatible('m', WrongOutputType)=True\n",
      "step.is_compatible('m', CorrectExact)=True\n",
      "step.is_compatible('m', CorrectExtraArgs)=True\n",
      "step.is_compatible('m', CorrectMissingTypeAssumeTypeAny)=True\n"
     ]
    }
   ],
   "source": [
    "from typing import List\n",
    "\n",
    "class WrongInputName(Function):\n",
    "    def run(self, x, b: int, *args, **kwargs):\n",
    "        return 10\n",
    "\n",
    "class MissingInputVariable(Function):\n",
    "    def run(self, b: int, *args, **kwargs):\n",
    "        return 10\n",
    "\n",
    "class WrongInputType(Function):\n",
    "    def run(self, a, b: List[int], *args, **kwargs):\n",
    "        return 10\n",
    "\n",
    "class WrongOutputType(Function):\n",
    "    def run(self, a, b: int, *args, **kwargs) -> str:\n",
    "        return \"10\"\n",
    "\n",
    "class CorrectExact(Function):\n",
    "    def run(self, a, b: int, *args, **kwargs) -> int:\n",
    "        return 10\n",
    "\n",
    "class CorrectExtraArgs(Function):\n",
    "    def run(self, a, b: int, x, *args, **kwargs) -> int:\n",
    "        return 10\n",
    "\n",
    "class CorrectMissingTypeAssumeTypeAny(Function):\n",
    "    def run(self, a, b, x, *args, **kwargs):\n",
    "        return 10\n",
    "\n",
    "print(f\"{step.is_compatible('m', WrongInputName)=}\")\n",
    "print(f\"{step.is_compatible('m', MissingInputVariable)=}\")\n",
    "print(f\"{step.is_compatible('m', WrongInputType)=}\")\n",
    "print(f\"{step.is_compatible('m', WrongOutputType)=}\")\n",
    "print(f\"{step.is_compatible('m', CorrectExact)=}\")\n",
    "print(f\"{step.is_compatible('m', CorrectExtraArgs)=}\")\n",
    "print(f\"{step.is_compatible('m', CorrectMissingTypeAssumeTypeAny)=}\")"
   ]
  },
  {
   "cell_type": "markdown",
   "id": "66c98ead-0cde-47a2-9567-9755d4850851",
   "metadata": {},
   "source": [
    "-------"
   ]
  }
 ],
 "metadata": {
  "kernelspec": {
   "display_name": "flow39",
   "language": "python",
   "name": "flow39"
  },
  "language_info": {
   "codemirror_mode": {
    "name": "ipython",
    "version": 3
   },
   "file_extension": ".py",
   "mimetype": "text/x-python",
   "name": "python",
   "nbconvert_exporter": "python",
   "pygments_lexer": "ipython3",
   "version": "3.9.17"
  }
 },
 "nbformat": 4,
 "nbformat_minor": 5
}
