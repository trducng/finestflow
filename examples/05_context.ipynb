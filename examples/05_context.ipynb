{
 "cells": [
  {
   "cell_type": "markdown",
   "id": "7cdd8a38-5987-457c-b023-8e48f9392777",
   "metadata": {},
   "source": [
    "# Tutorial 5: Work with context"
   ]
  },
  {
   "cell_type": "code",
   "execution_count": 1,
   "id": "bb02905b",
   "metadata": {},
   "outputs": [],
   "source": [
    "import yaml\n",
    "from pprint import pprint\n",
    "\n",
    "from theflow import Function, Param, Node, load\n",
    "\n",
    "\n",
    "def callback(obj, type_):\n",
    "    return obj.a * 2\n",
    "\n",
    "\n",
    "class Sum1(Function):\n",
    "    a: int\n",
    "    b: int = 10\n",
    "    c: int = 10\n",
    "    d: int = Param(default_callback=lambda obj, type_: obj.b * 2)\n",
    "\n",
    "    def run(self) -> int:\n",
    "        return self.a + self.b + self.c\n",
    "\n",
    "\n",
    "class Sum2(Function):\n",
    "    a: int\n",
    "\n",
    "    def run(self, a, b: int, *args, **kwargs) -> int:\n",
    "        return self.a + a + b\n",
    "\n",
    "\n",
    "class Plus(Function):\n",
    "    a: int\n",
    "    e: int\n",
    "    x: Function\n",
    "    y: Function = Node(default=Sum1.withx(a=100))\n",
    "    m: Function = Node(default=Sum2.withx(a=100))\n",
    "\n",
    "    @Param.auto()\n",
    "    def f(self):\n",
    "        return self.a + self.e\n",
    "\n",
    "    def run(self) -> int:\n",
    "        x, y, m = self.x(), self.y(), self.m(self.a, self.e)\n",
    "        print(f\"{x=}, {y=}, {m=}\")\n",
    "        return x + y + m"
   ]
  },
  {
   "cell_type": "code",
   "execution_count": 2,
   "id": "8c2bbc98-c693-4b00-8ca3-25adff672604",
   "metadata": {},
   "outputs": [
    {
     "name": "stdout",
     "output_type": "stream",
     "text": [
      "x=40, y=120, m=140\n"
     ]
    },
    {
     "data": {
      "text/plain": [
       "300"
      ]
     },
     "execution_count": 2,
     "metadata": {},
     "output_type": "execute_result"
    }
   ],
   "source": [
    "from pprint import pprint\n",
    "step = Plus(a=20, e=20, x=Sum1(a=20))\n",
    "step()"
   ]
  },
  {
   "cell_type": "code",
   "execution_count": 3,
   "id": "f48f2043-665d-41f9-b23d-5540d8acc499",
   "metadata": {},
   "outputs": [
    {
     "name": "stdout",
     "output_type": "stream",
     "text": [
      "x=40, y=120, m=140\n"
     ]
    },
    {
     "data": {
      "text/plain": [
       "300"
      ]
     },
     "execution_count": 3,
     "metadata": {},
     "output_type": "execute_result"
    }
   ],
   "source": [
    "step2 = Plus(a=20, e=20, x=Sum1(a=20))\n",
    "step2()"
   ]
  },
  {
   "cell_type": "code",
   "execution_count": 4,
   "id": "ed1ae98b-0957-4f2e-aeed-ba4c63a90199",
   "metadata": {},
   "outputs": [
    {
     "name": "stdout",
     "output_type": "stream",
     "text": [
      "x=40, y=120, m=1120\n"
     ]
    },
    {
     "data": {
      "text/plain": [
       "1280"
      ]
     },
     "execution_count": 4,
     "metadata": {},
     "output_type": "execute_result"
    }
   ],
   "source": [
    "step.a = 1000\n",
    "step()"
   ]
  },
  {
   "cell_type": "code",
   "execution_count": 5,
   "id": "04d5ac0d-9469-444d-b18a-cc6c791441e7",
   "metadata": {},
   "outputs": [
    {
     "data": {
      "text/plain": [
       "{'__main__.Plus|17003595637627454': {'run_id': '17003595637627454'},\n",
       " '__main__.Plus|17003595637627454|.': {},\n",
       " '__main__.Plus|17003595637627454|__progress__': {'name': '__main__.Plus',\n",
       "  'id': '17003595637627454',\n",
       "  '.': {'status': 'run', 'input': {'args': (), 'kwargs': {}}, 'output': 300},\n",
       "  '.x': {'status': 'run', 'input': {'args': (), 'kwargs': {}}, 'output': 40},\n",
       "  '.y': {'status': 'run', 'input': {'args': (), 'kwargs': {}}, 'output': 120},\n",
       "  '.m': {'status': 'run',\n",
       "   'input': {'args': (20, 20), 'kwargs': {}},\n",
       "   'output': 140}},\n",
       " '__main__.Plus|17003595637627454|.x': {},\n",
       " '__main__.Plus|17003595637627454|.y': {},\n",
       " '__main__.Plus|17003595637627454|.m': {},\n",
       " '__main__.Plus|17003595640112717': {'run_id': '17003595640112717'},\n",
       " '__main__.Plus|17003595640112717|.': {},\n",
       " '__main__.Plus|17003595640112717|__progress__': {'name': '__main__.Plus',\n",
       "  'id': '17003595640112717',\n",
       "  '.': {'status': 'run', 'input': {'args': (), 'kwargs': {}}, 'output': 300},\n",
       "  '.x': {'status': 'run', 'input': {'args': (), 'kwargs': {}}, 'output': 40},\n",
       "  '.y': {'status': 'run', 'input': {'args': (), 'kwargs': {}}, 'output': 120},\n",
       "  '.m': {'status': 'run',\n",
       "   'input': {'args': (20, 20), 'kwargs': {}},\n",
       "   'output': 140}},\n",
       " '__main__.Plus|17003595640112717|.x': {},\n",
       " '__main__.Plus|17003595640112717|.y': {},\n",
       " '__main__.Plus|17003595640112717|.m': {},\n",
       " '__main__.Plus|1700359564153611': {'run_id': '1700359564153611'},\n",
       " '__main__.Plus|1700359564153611|.': {},\n",
       " '__main__.Plus|1700359564153611|__progress__': {'name': '__main__.Plus',\n",
       "  'id': '1700359564153611',\n",
       "  '.': {'status': 'run', 'input': {'args': (), 'kwargs': {}}, 'output': 1280},\n",
       "  '.x': {'status': 'run', 'input': {'args': (), 'kwargs': {}}, 'output': 40},\n",
       "  '.y': {'status': 'run', 'input': {'args': (), 'kwargs': {}}, 'output': 120},\n",
       "  '.m': {'status': 'run',\n",
       "   'input': {'args': (1000, 20), 'kwargs': {}},\n",
       "   'output': 1120}},\n",
       " '__main__.Plus|1700359564153611|.x': {},\n",
       " '__main__.Plus|1700359564153611|.y': {},\n",
       " '__main__.Plus|1700359564153611|.m': {}}"
      ]
     },
     "execution_count": 5,
     "metadata": {},
     "output_type": "execute_result"
    }
   ],
   "source": [
    "step.context.get_all_contexts()"
   ]
  },
  {
   "cell_type": "code",
   "execution_count": 6,
   "id": "ae49e078-a312-47ea-8aa9-85b6f04fe29c",
   "metadata": {},
   "outputs": [
    {
     "data": {
      "text/plain": [
       "{'name': '__main__.Plus',\n",
       " 'id': '1700359564153611',\n",
       " '.': {'status': 'run', 'input': {'args': (), 'kwargs': {}}, 'output': 1280},\n",
       " '.x': {'status': 'run', 'input': {'args': (), 'kwargs': {}}, 'output': 40},\n",
       " '.y': {'status': 'run', 'input': {'args': (), 'kwargs': {}}, 'output': 120},\n",
       " '.m': {'status': 'run',\n",
       "  'input': {'args': (1000, 20), 'kwargs': {}},\n",
       "  'output': 1120}}"
      ]
     },
     "execution_count": 6,
     "metadata": {},
     "output_type": "execute_result"
    }
   ],
   "source": [
    "step.last_run.logs()"
   ]
  },
  {
   "cell_type": "code",
   "execution_count": 7,
   "id": "2b387a80-bbc8-4f5e-aa4e-679df467d2a2",
   "metadata": {},
   "outputs": [
    {
     "data": {
      "text/plain": [
       "{'__main__.Plus|17003595637627454': {'run_id': '17003595637627454'},\n",
       " '__main__.Plus|17003595637627454|.': {},\n",
       " '__main__.Plus|17003595637627454|__progress__': {'name': '__main__.Plus',\n",
       "  'id': '17003595637627454',\n",
       "  '.': {'status': 'run', 'input': {'args': (), 'kwargs': {}}, 'output': 300},\n",
       "  '.x': {'status': 'run', 'input': {'args': (), 'kwargs': {}}, 'output': 40},\n",
       "  '.y': {'status': 'run', 'input': {'args': (), 'kwargs': {}}, 'output': 120},\n",
       "  '.m': {'status': 'run',\n",
       "   'input': {'args': (20, 20), 'kwargs': {}},\n",
       "   'output': 140}},\n",
       " '__main__.Plus|17003595637627454|.x': {},\n",
       " '__main__.Plus|17003595637627454|.y': {},\n",
       " '__main__.Plus|17003595637627454|.m': {},\n",
       " '__main__.Plus|17003595640112717': {'run_id': '17003595640112717'},\n",
       " '__main__.Plus|17003595640112717|.': {},\n",
       " '__main__.Plus|17003595640112717|__progress__': {'name': '__main__.Plus',\n",
       "  'id': '17003595640112717',\n",
       "  '.': {'status': 'run', 'input': {'args': (), 'kwargs': {}}, 'output': 300},\n",
       "  '.x': {'status': 'run', 'input': {'args': (), 'kwargs': {}}, 'output': 40},\n",
       "  '.y': {'status': 'run', 'input': {'args': (), 'kwargs': {}}, 'output': 120},\n",
       "  '.m': {'status': 'run',\n",
       "   'input': {'args': (20, 20), 'kwargs': {}},\n",
       "   'output': 140}},\n",
       " '__main__.Plus|17003595640112717|.x': {},\n",
       " '__main__.Plus|17003595640112717|.y': {},\n",
       " '__main__.Plus|17003595640112717|.m': {},\n",
       " '__main__.Plus|1700359564153611': {'run_id': '1700359564153611'},\n",
       " '__main__.Plus|1700359564153611|.': {},\n",
       " '__main__.Plus|1700359564153611|__progress__': {'name': '__main__.Plus',\n",
       "  'id': '1700359564153611',\n",
       "  '.': {'status': 'run', 'input': {'args': (), 'kwargs': {}}, 'output': 1280},\n",
       "  '.x': {'status': 'run', 'input': {'args': (), 'kwargs': {}}, 'output': 40},\n",
       "  '.y': {'status': 'run', 'input': {'args': (), 'kwargs': {}}, 'output': 120},\n",
       "  '.m': {'status': 'run',\n",
       "   'input': {'args': (1000, 20), 'kwargs': {}},\n",
       "   'output': 1120}},\n",
       " '__main__.Plus|1700359564153611|.x': {},\n",
       " '__main__.Plus|1700359564153611|.y': {},\n",
       " '__main__.Plus|1700359564153611|.m': {}}"
      ]
     },
     "execution_count": 7,
     "metadata": {},
     "output_type": "execute_result"
    }
   ],
   "source": [
    "step.context.get_all_contexts()"
   ]
  },
  {
   "cell_type": "markdown",
   "id": "abb89330-ba0a-4a1f-953a-890a70d84bed",
   "metadata": {},
   "source": [
    "## View the definition of any node and param\n",
    "\n",
    "`theflow` allows getting the definition of a node or a param with `.specs(...)`:"
   ]
  },
  {
   "cell_type": "markdown",
   "id": "66c98ead-0cde-47a2-9567-9755d4850851",
   "metadata": {},
   "source": [
    "-------"
   ]
  }
 ],
 "metadata": {
  "kernelspec": {
   "display_name": "flow39",
   "language": "python",
   "name": "flow39"
  },
  "language_info": {
   "codemirror_mode": {
    "name": "ipython",
    "version": 3
   },
   "file_extension": ".py",
   "mimetype": "text/x-python",
   "name": "python",
   "nbconvert_exporter": "python",
   "pygments_lexer": "ipython3",
   "version": "3.9.17"
  }
 },
 "nbformat": 4,
 "nbformat_minor": 5
}
