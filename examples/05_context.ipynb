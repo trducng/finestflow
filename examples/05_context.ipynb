{
 "cells": [
  {
   "cell_type": "markdown",
   "id": "7cdd8a38-5987-457c-b023-8e48f9392777",
   "metadata": {},
   "source": [
    "# Tutorial 5: Work with context"
   ]
  },
  {
   "cell_type": "code",
   "execution_count": 1,
   "id": "bb02905b",
   "metadata": {},
   "outputs": [],
   "source": [
    "import yaml\n",
    "from pprint import pprint\n",
    "\n",
    "from theflow import Composable, Param, Node, load\n",
    "\n",
    "\n",
    "def callback(obj, type_):\n",
    "    return obj.a * 2\n",
    "\n",
    "\n",
    "class Sum1(Composable):\n",
    "    a: int\n",
    "    b: int = 10\n",
    "    c: int = 10\n",
    "    d: int = Param(depends_on=\"b\", default_callback=lambda obj, type_: obj.b * 2)\n",
    "\n",
    "    def run(self) -> int:\n",
    "        return self.a + self.b + self.c\n",
    "\n",
    "\n",
    "class Sum2(Composable):\n",
    "    a: int\n",
    "\n",
    "    def run(self, a, b: int, *args, **kwargs) -> int:\n",
    "        return self.a + a + b\n",
    "\n",
    "\n",
    "class Plus(Composable):\n",
    "    a: int\n",
    "    e: int\n",
    "    x: Composable\n",
    "    y: Composable = Node(default=Sum1, default_kwargs={\"a\": 100})\n",
    "    m: Composable = Node(default=Sum2, default_kwargs={\"a\": 100})\n",
    "\n",
    "    @Param.decorate()\n",
    "    def f(self):\n",
    "        return self.a + self.e\n",
    "\n",
    "    def run(self) -> int:\n",
    "        x, y, m = self.x(), self.y(), self.m(self.a, self.e)\n",
    "        print(f\"{x=}, {y=}, {m=}\")\n",
    "        return x + y + m"
   ]
  },
  {
   "cell_type": "code",
   "execution_count": 2,
   "id": "8c2bbc98-c693-4b00-8ca3-25adff672604",
   "metadata": {},
   "outputs": [
    {
     "name": "stdout",
     "output_type": "stream",
     "text": [
      "x=40, y=120, m=140\n"
     ]
    },
    {
     "data": {
      "text/plain": [
       "300"
      ]
     },
     "execution_count": 2,
     "metadata": {},
     "output_type": "execute_result"
    }
   ],
   "source": [
    "from pprint import pprint\n",
    "step = Plus(a=20, e=20, x=Sum1(a=20))\n",
    "step()"
   ]
  },
  {
   "cell_type": "code",
   "execution_count": 10,
   "id": "f48f2043-665d-41f9-b23d-5540d8acc499",
   "metadata": {},
   "outputs": [
    {
     "name": "stdout",
     "output_type": "stream",
     "text": [
      "x=40, y=120, m=140\n"
     ]
    },
    {
     "data": {
      "text/plain": [
       "300"
      ]
     },
     "execution_count": 10,
     "metadata": {},
     "output_type": "execute_result"
    }
   ],
   "source": [
    "step2 = Plus(a=20, e=20, x=Sum1(a=20))\n",
    "step2()"
   ]
  },
  {
   "cell_type": "code",
   "execution_count": 7,
   "id": "ed1ae98b-0957-4f2e-aeed-ba4c63a90199",
   "metadata": {},
   "outputs": [
    {
     "name": "stdout",
     "output_type": "stream",
     "text": [
      "x=40, y=120, m=1120\n"
     ]
    },
    {
     "data": {
      "text/plain": [
       "1280"
      ]
     },
     "execution_count": 7,
     "metadata": {},
     "output_type": "execute_result"
    }
   ],
   "source": [
    "step.a = 1000\n",
    "step()"
   ]
  },
  {
   "cell_type": "code",
   "execution_count": 9,
   "id": "04d5ac0d-9469-444d-b18a-cc6c791441e7",
   "metadata": {},
   "outputs": [
    {
     "data": {
      "text/plain": [
       "{'__global_key__': {},\n",
       " '|1693717293': {'run_id': '1693717293'},\n",
       " '|1693717293|.': {},\n",
       " '|1693717293|__progress__': {'.x': {'input': {'args': (), 'kwargs': {}},\n",
       "   'output': 40,\n",
       "   'status': 'run'},\n",
       "  '.y': {'input': {'args': (), 'kwargs': {}}, 'output': 120, 'status': 'run'},\n",
       "  '.m': {'input': {'args': (20, 20), 'kwargs': {}},\n",
       "   'output': 140,\n",
       "   'status': 'run'},\n",
       "  '.': {'input': {'args': (), 'kwargs': {}}, 'output': 300, 'status': 'run'}},\n",
       " '|1693717293|.x': {},\n",
       " '|1693717293|.y': {},\n",
       " '|1693717293|.m': {},\n",
       " '|1693717358': {'run_id': '1693717358'},\n",
       " '|1693717358|.': {},\n",
       " '|1693717358|__progress__': {'.x': {'input': {'args': (), 'kwargs': {}},\n",
       "   'output': 40,\n",
       "   'status': 'run'},\n",
       "  '.y': {'input': {'args': (), 'kwargs': {}}, 'output': 120, 'status': 'run'},\n",
       "  '.m': {'input': {'args': (1000, 20), 'kwargs': {}},\n",
       "   'output': 1120,\n",
       "   'status': 'run'},\n",
       "  '.': {'input': {'args': (), 'kwargs': {}}, 'output': 1280, 'status': 'run'}},\n",
       " '|1693717358|.x': {},\n",
       " '|1693717358|.y': {},\n",
       " '|1693717358|.m': {}}"
      ]
     },
     "execution_count": 9,
     "metadata": {},
     "output_type": "execute_result"
    }
   ],
   "source": [
    "step.context._msg_store"
   ]
  },
  {
   "cell_type": "code",
   "execution_count": 4,
   "id": "ae49e078-a312-47ea-8aa9-85b6f04fe29c",
   "metadata": {},
   "outputs": [
    {
     "data": {
      "text/plain": [
       "{'.x': {'input': {'args': (), 'kwargs': {}}, 'output': 40, 'status': 'run'},\n",
       " '.y': {'input': {'args': (), 'kwargs': {}}, 'output': 120, 'status': 'run'},\n",
       " '.m': {'input': {'args': (20, 20), 'kwargs': {}},\n",
       "  'output': 140,\n",
       "  'status': 'run'},\n",
       " '.': {'input': {'args': (), 'kwargs': {}}, 'output': 300, 'status': 'run'}}"
      ]
     },
     "execution_count": 4,
     "metadata": {},
     "output_type": "execute_result"
    }
   ],
   "source": [
    "step.last_run.logs()"
   ]
  },
  {
   "cell_type": "code",
   "execution_count": 6,
   "id": "2b387a80-bbc8-4f5e-aa4e-679df467d2a2",
   "metadata": {},
   "outputs": [
    {
     "data": {
      "text/plain": [
       "{'__global_key__': {},\n",
       " '|1693717293': {'run_id': '1693717293'},\n",
       " '|1693717293|.': {},\n",
       " '|1693717293|__progress__': {'.x': {'input': {'args': (), 'kwargs': {}},\n",
       "   'output': 40,\n",
       "   'status': 'run'},\n",
       "  '.y': {'input': {'args': (), 'kwargs': {}}, 'output': 120, 'status': 'run'},\n",
       "  '.m': {'input': {'args': (20, 20), 'kwargs': {}},\n",
       "   'output': 140,\n",
       "   'status': 'run'},\n",
       "  '.': {'input': {'args': (), 'kwargs': {}}, 'output': 300, 'status': 'run'}},\n",
       " '|1693717293|.x': {},\n",
       " '|1693717293|.y': {},\n",
       " '|1693717293|.m': {}}"
      ]
     },
     "execution_count": 6,
     "metadata": {},
     "output_type": "execute_result"
    }
   ],
   "source": [
    "step.context._msg_store"
   ]
  },
  {
   "cell_type": "markdown",
   "id": "abb89330-ba0a-4a1f-953a-890a70d84bed",
   "metadata": {},
   "source": [
    "## View the definition of any node and param\n",
    "\n",
    "`theflow` allows getting the definition of a node or a param with `.specs(...)`:"
   ]
  },
  {
   "cell_type": "markdown",
   "id": "66c98ead-0cde-47a2-9567-9755d4850851",
   "metadata": {},
   "source": [
    "-------"
   ]
  }
 ],
 "metadata": {
  "kernelspec": {
   "display_name": "flow39",
   "language": "python",
   "name": "flow39"
  },
  "language_info": {
   "codemirror_mode": {
    "name": "ipython",
    "version": 3
   },
   "file_extension": ".py",
   "mimetype": "text/x-python",
   "name": "python",
   "nbconvert_exporter": "python",
   "pygments_lexer": "ipython3",
   "version": "3.9.17"
  }
 },
 "nbformat": 4,
 "nbformat_minor": 5
}
