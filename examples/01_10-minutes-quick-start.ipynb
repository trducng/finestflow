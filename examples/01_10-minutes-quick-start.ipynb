{
 "cells": [
  {
   "cell_type": "markdown",
   "id": "9923ac4b",
   "metadata": {},
   "source": [
    "# 10-minute Quick Start\n",
    "\n",
    "Installation: `pip install theflow`"
   ]
  },
  {
   "cell_type": "code",
   "execution_count": 1,
   "id": "8e72cacb",
   "metadata": {},
   "outputs": [],
   "source": [
    "%load_ext autoreload\n",
    "%autoreload 2\n",
    "\n",
    "from theflow.base import Compose"
   ]
  },
  {
   "cell_type": "code",
   "execution_count": 2,
   "id": "daebde00",
   "metadata": {},
   "outputs": [],
   "source": [
    "class Plus(Compose):\n",
    "    x: int\n",
    "    y: int\n",
    "\n",
    "    def run(self, z):\n",
    "        return (self.x + self.y) * z\n",
    "\n",
    "class Step2(Compose):\n",
    "    a: int\n",
    "    b: int\n",
    "\n",
    "    def run(self):\n",
    "        return self.a * self.b\n",
    "\n",
    "\n",
    "def step3(a, b):\n",
    "    return a + b\n",
    "\n",
    "\n",
    "class Step4:\n",
    "    def __init__(self, a, b):\n",
    "        self.a = a\n",
    "        self.b = b\n",
    "\n",
    "    def calculate(self, c):\n",
    "        return self.a + self.b + c"
   ]
  },
  {
   "cell_type": "code",
   "execution_count": 3,
   "id": "cd16b4b6",
   "metadata": {},
   "outputs": [],
   "source": [
    "class Workflow(Compose):\n",
    "    param1: int\n",
    "    param2: int\n",
    "    step1: Compose\n",
    "    step2: Compose\n",
    "    step3: Compose\n",
    "    step4: Compose\n",
    "    step5: Compose\n",
    "\n",
    "    def _initialize_nodes(self):\n",
    "        self.step1 = Plus(x=10, y=20)\n",
    "        self.step2 = Step2(a=self.param1, b=self.param2)\n",
    "        self.step3 = step3\n",
    "        self.step4 = Step4(10, 10)\n",
    "\n",
    "    def run(self, x):\n",
    "        a = self.step1(x)\n",
    "        a += self.step2()\n",
    "        a += self.step3(a, x)\n",
    "        a += self.step4.calculate(x)\n",
    "        a += self.step5(a, x)\n",
    "        return a"
   ]
  },
  {
   "cell_type": "code",
   "execution_count": 4,
   "id": "9007b8fe",
   "metadata": {},
   "outputs": [],
   "source": [
    "workflow = Workflow(param1=2, param2=5, step5=step3)"
   ]
  },
  {
   "cell_type": "code",
   "execution_count": 5,
   "id": "606f3311",
   "metadata": {},
   "outputs": [
    {
     "name": "stdout",
     "output_type": "stream",
     "text": [
      "- output=1330\n",
      "- type(output)=<class 'int'>\n"
     ]
    }
   ],
   "source": [
    "output = workflow(10)\n",
    "print(f\"- {output=}\")\n",
    "print(f\"- {type(output)=}\")"
   ]
  },
  {
   "cell_type": "code",
   "execution_count": 6,
   "id": "d4dd02bd",
   "metadata": {},
   "outputs": [
    {
     "data": {
      "text/plain": [
       "{'|16942441828447778': {'run_id': '16942441828447778'},\n",
       " '|16942441828447778|.': {},\n",
       " '|16942441828447778|__progress__': {'name': '',\n",
       "  'id': '16942441828447778',\n",
       "  '.': {'status': 'run',\n",
       "   'input': {'args': (10,), 'kwargs': {}},\n",
       "   'output': 1330},\n",
       "  '.step1': {'status': 'run',\n",
       "   'input': {'args': (10,), 'kwargs': {}},\n",
       "   'output': 300},\n",
       "  '.step2': {'status': 'run',\n",
       "   'input': {'args': (), 'kwargs': {}},\n",
       "   'output': 10},\n",
       "  '.step3': {'status': 'run',\n",
       "   'input': {'args': (310, 10), 'kwargs': {}},\n",
       "   'output': 320},\n",
       "  '.step4': {'status': 'run',\n",
       "   'input': {'args': (10,), 'kwargs': {}},\n",
       "   'output': 30},\n",
       "  '.step5': {'status': 'run',\n",
       "   'input': {'args': (660, 10), 'kwargs': {}},\n",
       "   'output': 670}},\n",
       " '|16942441828447778|.step1': {},\n",
       " '|16942441828447778|.step2': {}}"
      ]
     },
     "execution_count": 6,
     "metadata": {},
     "output_type": "execute_result"
    }
   ],
   "source": [
    "workflow.context.get_all_contexts()"
   ]
  },
  {
   "cell_type": "code",
   "execution_count": 7,
   "id": "e239fbf4",
   "metadata": {},
   "outputs": [
    {
     "data": {
      "text/plain": [
       "{'param1': 2, 'param2': 5}"
      ]
     },
     "execution_count": 7,
     "metadata": {},
     "output_type": "execute_result"
    }
   ],
   "source": [
    "workflow.params"
   ]
  },
  {
   "cell_type": "code",
   "execution_count": 8,
   "id": "77349c35",
   "metadata": {},
   "outputs": [
    {
     "data": {
      "text/plain": [
       "320"
      ]
     },
     "execution_count": 8,
     "metadata": {},
     "output_type": "execute_result"
    }
   ],
   "source": [
    "workflow.last_run.output(\".step3\")"
   ]
  },
  {
   "cell_type": "code",
   "execution_count": 9,
   "id": "63644239",
   "metadata": {},
   "outputs": [
    {
     "data": {
      "text/plain": [
       "{'name': '',\n",
       " 'id': '16942441828447778',\n",
       " '.': {'status': 'run',\n",
       "  'input': {'args': (10,), 'kwargs': {}},\n",
       "  'output': 1330},\n",
       " '.step1': {'status': 'run',\n",
       "  'input': {'args': (10,), 'kwargs': {}},\n",
       "  'output': 300},\n",
       " '.step2': {'status': 'run',\n",
       "  'input': {'args': (), 'kwargs': {}},\n",
       "  'output': 10},\n",
       " '.step3': {'status': 'run',\n",
       "  'input': {'args': (310, 10), 'kwargs': {}},\n",
       "  'output': 320},\n",
       " '.step4': {'status': 'run',\n",
       "  'input': {'args': (10,), 'kwargs': {}},\n",
       "  'output': 30},\n",
       " '.step5': {'status': 'run',\n",
       "  'input': {'args': (660, 10), 'kwargs': {}},\n",
       "  'output': 670}}"
      ]
     },
     "execution_count": 9,
     "metadata": {},
     "output_type": "execute_result"
    }
   ],
   "source": [
    "workflow.last_run.logs()"
   ]
  },
  {
   "cell_type": "markdown",
   "id": "f0ab5421-cb25-4dfb-bbe9-71e327f3c68a",
   "metadata": {},
   "source": [
    "----------------------------------"
   ]
  }
 ],
 "metadata": {
  "kernelspec": {
   "display_name": "flow39",
   "language": "python",
   "name": "flow39"
  },
  "language_info": {
   "codemirror_mode": {
    "name": "ipython",
    "version": 3
   },
   "file_extension": ".py",
   "mimetype": "text/x-python",
   "name": "python",
   "nbconvert_exporter": "python",
   "pygments_lexer": "ipython3",
   "version": "3.9.17"
  }
 },
 "nbformat": 4,
 "nbformat_minor": 5
}
