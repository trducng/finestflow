{
 "cells": [
  {
   "cell_type": "markdown",
   "id": "7cdd8a38-5987-457c-b023-8e48f9392777",
   "metadata": {},
   "source": [
    "# Tutorial 6: Caching"
   ]
  },
  {
   "cell_type": "code",
   "execution_count": 1,
   "id": "bb02905b",
   "metadata": {},
   "outputs": [],
   "source": [
    "import time\n",
    "import random\n",
    "import yaml\n",
    "import os\n",
    "from pprint import pprint\n",
    "\n",
    "from theflow import Compose, Param, Node, load\n",
    "\n",
    "\n",
    "\n",
    "class Multiply(Compose):\n",
    "    class Middleware:\n",
    "        middleware = [\n",
    "            \"theflow.middleware.TrackProgressMiddleware\",\n",
    "            \"theflow.middleware.CachingMiddleware\",\n",
    "            \"theflow.middleware.SkipComponentMiddleware\",\n",
    "        ]\n",
    "\n",
    "    a: int\n",
    "    def run(self, x) -> int:\n",
    "        sec = 3\n",
    "        print(f\"Multipy is a very long computation, takes {sec} seconds\")\n",
    "        time.sleep(3)\n",
    "        return self.a * x\n",
    "\n",
    "\n",
    "class Sum(Compose):\n",
    "    a: int\n",
    "    b: Compose=Node(default=Multiply, default_kwargs={\"a\": 1})\n",
    "    \n",
    "    def run(self, x) -> int:\n",
    "        return self.a + self.b(x)\n",
    "\n",
    "\n",
    "class Func(Compose):\n",
    "    a: int\n",
    "    func: Compose = Node(default=Sum, default_kwargs={\"a\": 1})\n",
    "\n",
    "    def run(self, x) -> int:\n",
    "        return self.a + self.func(x)"
   ]
  },
  {
   "cell_type": "code",
   "execution_count": 2,
   "id": "7177a403-5afd-4427-9bbf-de5026b2a8ac",
   "metadata": {},
   "outputs": [
    {
     "name": "stdout",
     "output_type": "stream",
     "text": [
      "31\n"
     ]
    }
   ],
   "source": [
    "func = Func(a=10)\n",
    "output = func(20)\n",
    "print(output)"
   ]
  },
  {
   "cell_type": "code",
   "execution_count": 3,
   "id": "cdaf6b1d-f99a-491f-9747-a454dc83c75c",
   "metadata": {},
   "outputs": [
    {
     "name": "stdout",
     "output_type": "stream",
     "text": [
      "31\n"
     ]
    }
   ],
   "source": [
    "output2 = func(20)\n",
    "print(output2)"
   ]
  },
  {
   "cell_type": "code",
   "execution_count": 4,
   "id": "a3ed5bfe-11f3-42b1-a400-b5b16fa09122",
   "metadata": {},
   "outputs": [
    {
     "name": "stdout",
     "output_type": "stream",
     "text": [
      "Multipy is a very long computation, takes 3 seconds\n",
      "41\n"
     ]
    }
   ],
   "source": [
    "output3 = func(30)\n",
    "print(output3)"
   ]
  },
  {
   "cell_type": "code",
   "execution_count": 5,
   "id": "62b5d476-f9c1-481b-8bd1-0854f7dd65c8",
   "metadata": {},
   "outputs": [],
   "source": [
    "func2 = Func(a=10)"
   ]
  },
  {
   "cell_type": "code",
   "execution_count": 6,
   "id": "be81b545-5b77-4259-9aa7-e441628dfb9b",
   "metadata": {},
   "outputs": [],
   "source": [
    "outputb = func2(20)\n",
    "print(outputb)"
   ]
  },
  {
   "cell_type": "code",
   "execution_count": 7,
   "id": "cc5369ce-9af4-4f09-afd0-2431db07ca4d",
   "metadata": {},
   "outputs": [
    {
     "data": {
      "text/plain": [
       "<theflow.context.Context at 0x7f68b54a3b80>"
      ]
     },
     "execution_count": 7,
     "metadata": {},
     "output_type": "execute_result"
    }
   ],
   "source": [
    "func2.context"
   ]
  },
  {
   "cell_type": "code",
   "execution_count": 8,
   "id": "8b8d9f16-1056-4b77-9ea1-e62493896c1f",
   "metadata": {},
   "outputs": [
    {
     "data": {
      "text/plain": [
       "<theflow.context.Context at 0x7f68b57be280>"
      ]
     },
     "execution_count": 8,
     "metadata": {},
     "output_type": "execute_result"
    }
   ],
   "source": [
    "func.context"
   ]
  },
  {
   "cell_type": "code",
   "execution_count": null,
   "id": "963b1728-0106-48ad-b3fa-ecc81bf9ab67",
   "metadata": {},
   "outputs": [],
   "source": [
    "func.context.get_all_contexts_keys()"
   ]
  },
  {
   "cell_type": "code",
   "execution_count": null,
   "id": "74e46042-89e9-4d05-90ae-77340425d5a0",
   "metadata": {},
   "outputs": [],
   "source": [
    "func2.context.get_all_contexts_keys()"
   ]
  },
  {
   "cell_type": "markdown",
   "id": "66c98ead-0cde-47a2-9567-9755d4850851",
   "metadata": {},
   "source": [
    "-------"
   ]
  }
 ],
 "metadata": {
  "kernelspec": {
   "display_name": "flow39",
   "language": "python",
   "name": "flow39"
  },
  "language_info": {
   "codemirror_mode": {
    "name": "ipython",
    "version": 3
   },
   "file_extension": ".py",
   "mimetype": "text/x-python",
   "name": "python",
   "nbconvert_exporter": "python",
   "pygments_lexer": "ipython3",
   "version": "3.9.17"
  }
 },
 "nbformat": 4,
 "nbformat_minor": 5
}
