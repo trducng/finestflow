{
 "cells": [
  {
   "cell_type": "markdown",
   "id": "7cdd8a38-5987-457c-b023-8e48f9392777",
   "metadata": {},
   "source": [
    "# Tutorial 6: Multiprocessing"
   ]
  },
  {
   "cell_type": "code",
   "execution_count": 1,
   "id": "bb02905b",
   "metadata": {},
   "outputs": [],
   "source": [
    "import time\n",
    "import random\n",
    "import yaml\n",
    "import os\n",
    "from pprint import pprint\n",
    "\n",
    "from theflow import Compose, Param, Node, load\n",
    "from theflow.utils.multiprocess import parallel\n",
    "\n",
    "class Sum1(Compose):\n",
    "    a: int\n",
    "\n",
    "    def run(self, x, y, w, task_number) -> int:\n",
    "        time.sleep(w)\n",
    "        print(os.getpid(), self._ff_run_id, self._ff_prefix, self._ff_name, task_number)\n",
    "        return self.a + x + y\n",
    "\n",
    "class Plus(Compose):\n",
    "    a: int\n",
    "    func: Compose = Node(default=Sum1.withx(a=1))\n",
    "\n",
    "    def run(self, x, n_times, n_processes) -> int:\n",
    "        print(self._ff_childs_called)\n",
    "        tasks = [{\"x\": x, \"y\": self.a, \"w\": random.random() * 5, \"task_number\":_} for _ in range(n_times)]\n",
    "        results = list(parallel(self, \"func\", tasks, processes=n_processes))\n",
    "        return sum(results)"
   ]
  },
  {
   "cell_type": "code",
   "execution_count": 2,
   "id": "7177a403-5afd-4427-9bbf-de5026b2a8ac",
   "metadata": {},
   "outputs": [
    {
     "name": "stdout",
     "output_type": "stream",
     "text": [
      "{}\n",
      "101346 16965514609225352 . func[1] 1\n",
      "101346 16965514609225352 . func[2] 2\n",
      "101343 16965514609225352 . func 0\n",
      "101343 16965514609225352 . func[4] 4\n",
      "101346 16965514609225352 . func[3] 3\n",
      "101346 16965514609225352 . func[6] 6\n",
      "101343 16965514609225352 . func[5] 5\n",
      "101343 16965514609225352 . func[8] 8\n",
      "101346 16965514609225352 . func[7] 7\n",
      "101343 16965514609225352 . func[9] 9\n"
     ]
    }
   ],
   "source": [
    "pip = Plus(a=1, func=Sum1(a=1))\n",
    "output = pip(1, 10, 2)"
   ]
  },
  {
   "cell_type": "code",
   "execution_count": 3,
   "id": "8b3b99be-acd9-4e85-9121-927a88f47dc0",
   "metadata": {},
   "outputs": [
    {
     "data": {
      "text/plain": [
       "{'__main__.Plus|16965514609225352': {'run_id': '16965514609225352'},\n",
       " '__main__.Plus|16965514609225352|.': {},\n",
       " '__main__.Plus|16965514609225352|__progress__': {'name': '__main__.Plus',\n",
       "  'id': '16965514609225352',\n",
       "  '.': {'status': 'run',\n",
       "   'input': {'args': (1, 10, 2), 'kwargs': {}},\n",
       "   'output': 30},\n",
       "  '.func[1]': {'status': 'run',\n",
       "   'input': {'args': (),\n",
       "    'kwargs': {'x': 1, 'y': 1, 'w': 0.7411458259173775, 'task_number': 1}},\n",
       "   'output': 3},\n",
       "  '.func': {'status': 'run',\n",
       "   'input': {'args': (),\n",
       "    'kwargs': {'x': 1, 'y': 1, 'w': 2.4692252337320646, 'task_number': 0}},\n",
       "   'output': 3},\n",
       "  '.func[2]': {'status': 'run',\n",
       "   'input': {'args': (),\n",
       "    'kwargs': {'x': 1, 'y': 1, 'w': 1.405414068856763, 'task_number': 2}},\n",
       "   'output': 3},\n",
       "  '.func[3]': {'status': 'run',\n",
       "   'input': {'args': (),\n",
       "    'kwargs': {'x': 1, 'y': 1, 'w': 4.229785543737348, 'task_number': 3}},\n",
       "   'output': 3},\n",
       "  '.func[4]': {'status': 'run',\n",
       "   'input': {'args': (),\n",
       "    'kwargs': {'x': 1, 'y': 1, 'w': 1.8610257054527313, 'task_number': 4}},\n",
       "   'output': 3},\n",
       "  '.func[5]': {'status': 'run',\n",
       "   'input': {'args': (),\n",
       "    'kwargs': {'x': 1, 'y': 1, 'w': 4.927495993999765, 'task_number': 5}},\n",
       "   'output': 3},\n",
       "  '.func[6]': {'status': 'run',\n",
       "   'input': {'args': (),\n",
       "    'kwargs': {'x': 1, 'y': 1, 'w': 0.8205639189300001, 'task_number': 6}},\n",
       "   'output': 3},\n",
       "  '.func[7]': {'status': 'run',\n",
       "   'input': {'args': (),\n",
       "    'kwargs': {'x': 1, 'y': 1, 'w': 4.322937367782723, 'task_number': 7}},\n",
       "   'output': 3},\n",
       "  '.func[8]': {'status': 'run',\n",
       "   'input': {'args': (),\n",
       "    'kwargs': {'x': 1, 'y': 1, 'w': 1.9138866265327292, 'task_number': 8}},\n",
       "   'output': 3},\n",
       "  '.func[9]': {'status': 'run',\n",
       "   'input': {'args': (),\n",
       "    'kwargs': {'x': 1, 'y': 1, 'w': 2.62327264365506, 'task_number': 9}},\n",
       "   'output': 3}},\n",
       " '__main__.Plus|16965514609225352|.func': {},\n",
       " '__main__.Plus|16965514609225352|.func[1]': {},\n",
       " '__main__.Plus|16965514609225352|.func[2]': {},\n",
       " '__main__.Plus|16965514609225352|.func[3]': {},\n",
       " '__main__.Plus|16965514609225352|.func[4]': {},\n",
       " '__main__.Plus|16965514609225352|.func[5]': {},\n",
       " '__main__.Plus|16965514609225352|.func[6]': {},\n",
       " '__main__.Plus|16965514609225352|.func[7]': {},\n",
       " '__main__.Plus|16965514609225352|.func[8]': {},\n",
       " '__main__.Plus|16965514609225352|.func[9]': {}}"
      ]
     },
     "execution_count": 3,
     "metadata": {},
     "output_type": "execute_result"
    }
   ],
   "source": [
    "pip.context.get_all_contexts()"
   ]
  },
  {
   "cell_type": "markdown",
   "id": "66c98ead-0cde-47a2-9567-9755d4850851",
   "metadata": {},
   "source": [
    "-------"
   ]
  }
 ],
 "metadata": {
  "kernelspec": {
   "display_name": "flow39",
   "language": "python",
   "name": "flow39"
  },
  "language_info": {
   "codemirror_mode": {
    "name": "ipython",
    "version": 3
   },
   "file_extension": ".py",
   "mimetype": "text/x-python",
   "name": "python",
   "nbconvert_exporter": "python",
   "pygments_lexer": "ipython3",
   "version": "3.9.17"
  }
 },
 "nbformat": 4,
 "nbformat_minor": 5
}
