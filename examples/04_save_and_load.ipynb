{
 "cells": [
  {
   "cell_type": "markdown",
   "id": "7cdd8a38-5987-457c-b023-8e48f9392777",
   "metadata": {},
   "source": [
    "# Tutorial 4: Save and load Compose"
   ]
  },
  {
   "cell_type": "markdown",
   "id": "081be466-dd7f-44da-8329-3b8606b99472",
   "metadata": {},
   "source": [
    "## Overview\n",
    "\n",
    "While constructing and using a flow, it's convenient to introspect the inner architecture of the flow to understand how it work and to ensure that we plug-n-play the right component into the flow. This capability can prove even more usefulness for those who don't build the flow and just use those that are packaged and distributed by other people.\n",
    "\n",
    "Any flow constructed with `theflow.Composable` allow users to:\n",
    "\n",
    "- View values of all current nodes and params.\n",
    "- View the definition of any nodes and params.\n",
    "- Check if any object is compatible with the flow and can be plugged into the flow.\n",
    "- Visualize the flow architecture."
   ]
  },
  {
   "cell_type": "markdown",
   "id": "3c4942dd-598e-4528-9713-56bfcf034285",
   "metadata": {},
   "source": [
    "Suppose we have a flow `Plus` that consists of component `Sum1` and `Sum2` as follow:"
   ]
  },
  {
   "cell_type": "code",
   "execution_count": 1,
   "id": "bb02905b",
   "metadata": {},
   "outputs": [],
   "source": [
    "import yaml\n",
    "from pprint import pprint\n",
    "\n",
    "from theflow import Composable, Param, Node, load\n",
    "\n",
    "\n",
    "def callback(obj, type_):\n",
    "    return obj.a * 2\n",
    "\n",
    "\n",
    "class Sum1(Composable):\n",
    "    a: int\n",
    "    b: int = 10\n",
    "    c: int = 10\n",
    "    d: int = Param(depends_on=\"b\", default_callback=lambda obj, type_: obj.b * 2)\n",
    "\n",
    "    def run(self) -> int:\n",
    "        return self.a + self.b + self.c\n",
    "\n",
    "\n",
    "class Sum2(Composable):\n",
    "    a: int\n",
    "\n",
    "    def run(self, a, b: int, *args, **kwargs) -> int:\n",
    "        return self.a + a + b\n",
    "\n",
    "\n",
    "class Plus(Composable):\n",
    "    a: int\n",
    "    e: int\n",
    "    x: Composable\n",
    "    y: Composable = Node(default=Sum1, default_kwargs={\"a\": 100})\n",
    "    m: Composable = Node(default=Sum2, default_kwargs={\"a\": 100})\n",
    "\n",
    "    @Param.decorate()\n",
    "    def f(self):\n",
    "        return self.a + self.e\n",
    "\n",
    "    def run(self) -> int:\n",
    "        x, y, m = self.x(), self.y(), self.m()\n",
    "        print(f\"{x=}, {y=}, {z=}\")\n",
    "        return x + y + z"
   ]
  },
  {
   "cell_type": "code",
   "execution_count": 16,
   "id": "fd2ba021-2285-40c1-bd13-87894aaaf09c",
   "metadata": {},
   "outputs": [],
   "source": [
    "from typing import Any"
   ]
  },
  {
   "cell_type": "code",
   "execution_count": 14,
   "id": "802f64de-7a6b-4e40-b613-2138c2aaef49",
   "metadata": {},
   "outputs": [],
   "source": [
    "import inspect"
   ]
  },
  {
   "cell_type": "code",
   "execution_count": 23,
   "id": "ff6e1f95-909b-40cc-aa26-b8bd0aa4b997",
   "metadata": {},
   "outputs": [],
   "source": [
    "from theflow.utils.modules import import_dotted_string"
   ]
  },
  {
   "cell_type": "code",
   "execution_count": 5,
   "id": "a8c6e35b-623f-4d53-b314-0d853d78be9d",
   "metadata": {},
   "outputs": [],
   "source": [
    "from typing import Any"
   ]
  },
  {
   "cell_type": "code",
   "execution_count": 8,
   "id": "35f15eec-6a73-48e7-b8ce-07d00228187d",
   "metadata": {},
   "outputs": [],
   "source": [
    "import typing"
   ]
  },
  {
   "cell_type": "code",
   "execution_count": 9,
   "id": "eb043491-63e5-46da-9fd3-6bc0677a23c3",
   "metadata": {},
   "outputs": [
    {
     "ename": "AttributeError",
     "evalue": "'_SpecialForm' object has no attribute '__qualname__'",
     "output_type": "error",
     "traceback": [
      "\u001b[0;31m---------------------------------------------------------------------------\u001b[0m",
      "\u001b[0;31mAttributeError\u001b[0m                            Traceback (most recent call last)",
      "Cell \u001b[0;32mIn[9], line 1\u001b[0m\n\u001b[0;32m----> 1\u001b[0m \u001b[43mtyping\u001b[49m\u001b[38;5;241;43m.\u001b[39;49m\u001b[43mAny\u001b[49m\u001b[38;5;241;43m.\u001b[39;49m\u001b[38;5;18;43m__qualname__\u001b[39;49m\n",
      "\u001b[0;31mAttributeError\u001b[0m: '_SpecialForm' object has no attribute '__qualname__'"
     ]
    }
   ],
   "source": [
    "typing.Any.__qualname__"
   ]
  },
  {
   "cell_type": "code",
   "execution_count": 7,
   "id": "72690616-4db1-4bc0-8cd3-c2edf20fcaa1",
   "metadata": {},
   "outputs": [
    {
     "ename": "AttributeError",
     "evalue": "'_SpecialForm' object has no attribute '__qualname__'",
     "output_type": "error",
     "traceback": [
      "\u001b[0;31m---------------------------------------------------------------------------\u001b[0m",
      "\u001b[0;31mAttributeError\u001b[0m                            Traceback (most recent call last)",
      "Cell \u001b[0;32mIn[7], line 1\u001b[0m\n\u001b[0;32m----> 1\u001b[0m Any\u001b[38;5;241m.\u001b[39m\u001b[38;5;18m__module__\u001b[39m, \u001b[43mAny\u001b[49m\u001b[38;5;241;43m.\u001b[39;49m\u001b[38;5;18;43m__qualname__\u001b[39;49m\n",
      "\u001b[0;31mAttributeError\u001b[0m: '_SpecialForm' object has no attribute '__qualname__'"
     ]
    }
   ],
   "source": [
    "Any.__module__, Any.__qualname__"
   ]
  },
  {
   "cell_type": "code",
   "execution_count": null,
   "id": "6ce32c8f-7c34-4ac2-96af-6fa56b0625e8",
   "metadata": {},
   "outputs": [],
   "source": []
  },
  {
   "cell_type": "code",
   "execution_count": null,
   "id": "4405b2d6-85f6-4f17-8ed6-ddeb422760eb",
   "metadata": {},
   "outputs": [],
   "source": []
  },
  {
   "cell_type": "code",
   "execution_count": null,
   "id": "0d98955c-3be0-4bc5-8bd4-d0f8bc53bcd3",
   "metadata": {},
   "outputs": [],
   "source": []
  },
  {
   "cell_type": "code",
   "execution_count": null,
   "id": "faf379ff-7b7c-41fe-a6ad-d7bcca5e134f",
   "metadata": {},
   "outputs": [],
   "source": []
  },
  {
   "cell_type": "code",
   "execution_count": 2,
   "id": "8c2bbc98-c693-4b00-8ca3-25adff672604",
   "metadata": {},
   "outputs": [
    {
     "name": "stderr",
     "output_type": "stream",
     "text": [
      "Error exporting theflow.base.Param.default_callback: Cannot serialize lambda functions\n",
      "Error exporting theflow.base.Param.default_callback: Cannot serialize lambda functions\n"
     ]
    },
    {
     "name": "stdout",
     "output_type": "stream",
     "text": [
      "{'nodes': {'m': {'__type__': 'theflow.base.Node',\n",
      "                 'default': {'nodes': {},\n",
      "                             'params': {'a': {'__type__': 'param',\n",
      "                                              'default': '{{ '\n",
      "                                                         'theflow.base.empty '\n",
      "                                                         '}}',\n",
      "                                              'default_callback': None,\n",
      "                                              'depends_on': None,\n",
      "                                              'help': '',\n",
      "                                              'no_cache': False,\n",
      "                                              'refresh_on_set': False,\n",
      "                                              'strict_type': False}},\n",
      "                             'type': '__main__.Sum2'},\n",
      "                 'default_callback': None,\n",
      "                 'default_kwargs': {'a': 100},\n",
      "                 'depends_on': None,\n",
      "                 'help': '',\n",
      "                 'input': {'a': '{{ typing.Any }}', 'b': '{{ builtins.int }}'},\n",
      "                 'no_cache': False,\n",
      "                 'output': '{{ builtins.int }}',\n",
      "                 'type': 'node'},\n",
      "           'x': {'__type__': 'theflow.base.Node',\n",
      "                 'default': '{{ theflow.base.empty }}',\n",
      "                 'default_callback': None,\n",
      "                 'default_kwargs': {},\n",
      "                 'depends_on': None,\n",
      "                 'help': '',\n",
      "                 'input': '{{ theflow.base.empty }}',\n",
      "                 'no_cache': False,\n",
      "                 'output': '{{ theflow.base.empty }}',\n",
      "                 'type': 'node'},\n",
      "           'y': {'__type__': 'theflow.base.Node',\n",
      "                 'default': {'nodes': {},\n",
      "                             'params': {'a': {'__type__': 'param',\n",
      "                                              'default': '{{ '\n",
      "                                                         'theflow.base.empty '\n",
      "                                                         '}}',\n",
      "                                              'default_callback': None,\n",
      "                                              'depends_on': None,\n",
      "                                              'help': '',\n",
      "                                              'no_cache': False,\n",
      "                                              'refresh_on_set': False,\n",
      "                                              'strict_type': False},\n",
      "                                        'b': {'__type__': 'param',\n",
      "                                              'default': 10,\n",
      "                                              'default_callback': None,\n",
      "                                              'depends_on': None,\n",
      "                                              'help': '',\n",
      "                                              'no_cache': False,\n",
      "                                              'refresh_on_set': False,\n",
      "                                              'strict_type': False},\n",
      "                                        'c': {'__type__': 'param',\n",
      "                                              'default': 10,\n",
      "                                              'default_callback': None,\n",
      "                                              'depends_on': None,\n",
      "                                              'help': '',\n",
      "                                              'no_cache': False,\n",
      "                                              'refresh_on_set': False,\n",
      "                                              'strict_type': False},\n",
      "                                        'd': {'__type__': 'param',\n",
      "                                              'default': '{{ '\n",
      "                                                         'theflow.base.empty '\n",
      "                                                         '}}',\n",
      "                                              'default_callback': '{{ '\n",
      "                                                                  'theflow.base.empty '\n",
      "                                                                  '}}',\n",
      "                                              'depends_on': ['b'],\n",
      "                                              'help': '',\n",
      "                                              'no_cache': False,\n",
      "                                              'refresh_on_set': False,\n",
      "                                              'strict_type': False}},\n",
      "                             'type': '__main__.Sum1'},\n",
      "                 'default_callback': None,\n",
      "                 'default_kwargs': {'a': 100},\n",
      "                 'depends_on': None,\n",
      "                 'help': '',\n",
      "                 'input': {},\n",
      "                 'no_cache': False,\n",
      "                 'output': '{{ builtins.int }}',\n",
      "                 'type': 'node'}},\n",
      " 'params': {'a': {'__type__': 'param',\n",
      "                  'default': '{{ theflow.base.empty }}',\n",
      "                  'default_callback': None,\n",
      "                  'depends_on': None,\n",
      "                  'help': '',\n",
      "                  'no_cache': False,\n",
      "                  'refresh_on_set': False,\n",
      "                  'strict_type': False},\n",
      "            'e': {'__type__': 'param',\n",
      "                  'default': '{{ theflow.base.empty }}',\n",
      "                  'default_callback': None,\n",
      "                  'depends_on': None,\n",
      "                  'help': '',\n",
      "                  'no_cache': False,\n",
      "                  'refresh_on_set': False,\n",
      "                  'strict_type': False},\n",
      "            'f': {'__type__': 'param',\n",
      "                  'default': '{{ theflow.base.empty }}',\n",
      "                  'default_callback': '{{ theflow.base.empty }}',\n",
      "                  'depends_on': None,\n",
      "                  'help': '',\n",
      "                  'no_cache': False,\n",
      "                  'refresh_on_set': False,\n",
      "                  'strict_type': False}},\n",
      " 'type': '__main__.Plus'}\n"
     ]
    }
   ],
   "source": [
    "from pprint import pprint\n",
    "step = Plus(a=20, e=20, x=Sum1(a=20))\n",
    "xyz = step.describe()\n",
    "pprint(xyz)"
   ]
  },
  {
   "cell_type": "code",
   "execution_count": 11,
   "id": "820ef295-0fb6-4c30-adf5-c80e4bab8890",
   "metadata": {},
   "outputs": [],
   "source": [
    "from typing import _SpecialForm\n",
    "\n",
    "def inspect_output(obj):\n",
    "    for key, value in obj.items():\n",
    "        if isinstance(value, _SpecialForm):\n",
    "            import pdb; pdb.set_trace()\n",
    "        print(key, type(value))\n",
    "        if isinstance(value, dict):\n",
    "            inspect_output(value)"
   ]
  },
  {
   "cell_type": "code",
   "execution_count": 13,
   "id": "37b11108-7ae5-4b2d-b6a2-a6e04549ee6e",
   "metadata": {},
   "outputs": [
    {
     "name": "stdout",
     "output_type": "stream",
     "text": [
      "type <class 'str'>\n",
      "params <class 'dict'>\n",
      "f <class 'dict'>\n",
      "__type__ <class 'str'>\n",
      "default <class 'str'>\n",
      "default_callback <class 'str'>\n",
      "help <class 'str'>\n",
      "refresh_on_set <class 'bool'>\n",
      "strict_type <class 'bool'>\n",
      "depends_on <class 'NoneType'>\n",
      "no_cache <class 'bool'>\n",
      "a <class 'dict'>\n",
      "__type__ <class 'str'>\n",
      "default <class 'str'>\n",
      "default_callback <class 'NoneType'>\n",
      "help <class 'str'>\n",
      "refresh_on_set <class 'bool'>\n",
      "strict_type <class 'bool'>\n",
      "depends_on <class 'NoneType'>\n",
      "no_cache <class 'bool'>\n",
      "e <class 'dict'>\n",
      "__type__ <class 'str'>\n",
      "default <class 'str'>\n",
      "default_callback <class 'NoneType'>\n",
      "help <class 'str'>\n",
      "refresh_on_set <class 'bool'>\n",
      "strict_type <class 'bool'>\n",
      "depends_on <class 'NoneType'>\n",
      "no_cache <class 'bool'>\n",
      "nodes <class 'dict'>\n",
      "y <class 'dict'>\n",
      "__type__ <class 'str'>\n",
      "type <class 'str'>\n",
      "default <class 'dict'>\n",
      "type <class 'str'>\n",
      "params <class 'dict'>\n",
      "b <class 'dict'>\n",
      "__type__ <class 'str'>\n",
      "default <class 'int'>\n",
      "default_callback <class 'NoneType'>\n",
      "help <class 'str'>\n",
      "refresh_on_set <class 'bool'>\n",
      "strict_type <class 'bool'>\n",
      "depends_on <class 'NoneType'>\n",
      "no_cache <class 'bool'>\n",
      "c <class 'dict'>\n",
      "__type__ <class 'str'>\n",
      "default <class 'int'>\n",
      "default_callback <class 'NoneType'>\n",
      "help <class 'str'>\n",
      "refresh_on_set <class 'bool'>\n",
      "strict_type <class 'bool'>\n",
      "depends_on <class 'NoneType'>\n",
      "no_cache <class 'bool'>\n",
      "d <class 'dict'>\n",
      "__type__ <class 'str'>\n",
      "default <class 'str'>\n",
      "default_callback <class 'str'>\n",
      "help <class 'str'>\n",
      "refresh_on_set <class 'bool'>\n",
      "strict_type <class 'bool'>\n",
      "depends_on <class 'list'>\n",
      "no_cache <class 'bool'>\n",
      "a <class 'dict'>\n",
      "__type__ <class 'str'>\n",
      "default <class 'str'>\n",
      "default_callback <class 'NoneType'>\n",
      "help <class 'str'>\n",
      "refresh_on_set <class 'bool'>\n",
      "strict_type <class 'bool'>\n",
      "depends_on <class 'NoneType'>\n",
      "no_cache <class 'bool'>\n",
      "nodes <class 'dict'>\n",
      "default_kwargs <class 'dict'>\n",
      "a <class 'int'>\n",
      "default_callback <class 'NoneType'>\n",
      "help <class 'str'>\n",
      "depends_on <class 'NoneType'>\n",
      "no_cache <class 'bool'>\n",
      "input <class 'dict'>\n",
      "output <class 'str'>\n",
      "m <class 'dict'>\n",
      "__type__ <class 'str'>\n",
      "type <class 'str'>\n",
      "default <class 'dict'>\n",
      "type <class 'str'>\n",
      "params <class 'dict'>\n",
      "a <class 'dict'>\n",
      "__type__ <class 'str'>\n",
      "default <class 'str'>\n",
      "default_callback <class 'NoneType'>\n",
      "help <class 'str'>\n",
      "refresh_on_set <class 'bool'>\n",
      "strict_type <class 'bool'>\n",
      "depends_on <class 'NoneType'>\n",
      "no_cache <class 'bool'>\n",
      "nodes <class 'dict'>\n",
      "default_kwargs <class 'dict'>\n",
      "a <class 'int'>\n",
      "default_callback <class 'NoneType'>\n",
      "help <class 'str'>\n",
      "depends_on <class 'NoneType'>\n",
      "no_cache <class 'bool'>\n",
      "input <class 'dict'>\n",
      "> \u001b[0;32m/tmp/ipykernel_201328/3294307125.py\u001b[0m(7)\u001b[0;36minspect_output\u001b[0;34m()\u001b[0m\n",
      "\u001b[0;32m      5 \u001b[0;31m        \u001b[0;32mif\u001b[0m \u001b[0misinstance\u001b[0m\u001b[0;34m(\u001b[0m\u001b[0mvalue\u001b[0m\u001b[0;34m,\u001b[0m \u001b[0m_SpecialForm\u001b[0m\u001b[0;34m)\u001b[0m\u001b[0;34m:\u001b[0m\u001b[0;34m\u001b[0m\u001b[0;34m\u001b[0m\u001b[0m\n",
      "\u001b[0m\u001b[0;32m      6 \u001b[0;31m            \u001b[0;32mimport\u001b[0m \u001b[0mpdb\u001b[0m\u001b[0;34m;\u001b[0m \u001b[0mpdb\u001b[0m\u001b[0;34m.\u001b[0m\u001b[0mset_trace\u001b[0m\u001b[0;34m(\u001b[0m\u001b[0;34m)\u001b[0m\u001b[0;34m\u001b[0m\u001b[0;34m\u001b[0m\u001b[0m\n",
      "\u001b[0m\u001b[0;32m----> 7 \u001b[0;31m        \u001b[0mprint\u001b[0m\u001b[0;34m(\u001b[0m\u001b[0mkey\u001b[0m\u001b[0;34m,\u001b[0m \u001b[0mtype\u001b[0m\u001b[0;34m(\u001b[0m\u001b[0mvalue\u001b[0m\u001b[0;34m)\u001b[0m\u001b[0;34m)\u001b[0m\u001b[0;34m\u001b[0m\u001b[0;34m\u001b[0m\u001b[0m\n",
      "\u001b[0m\u001b[0;32m      8 \u001b[0;31m        \u001b[0;32mif\u001b[0m \u001b[0misinstance\u001b[0m\u001b[0;34m(\u001b[0m\u001b[0mvalue\u001b[0m\u001b[0;34m,\u001b[0m \u001b[0mdict\u001b[0m\u001b[0;34m)\u001b[0m\u001b[0;34m:\u001b[0m\u001b[0;34m\u001b[0m\u001b[0;34m\u001b[0m\u001b[0m\n",
      "\u001b[0m\u001b[0;32m      9 \u001b[0;31m            \u001b[0minspect_output\u001b[0m\u001b[0;34m(\u001b[0m\u001b[0mvalue\u001b[0m\u001b[0;34m)\u001b[0m\u001b[0;34m\u001b[0m\u001b[0;34m\u001b[0m\u001b[0m\n",
      "\u001b[0m\n"
     ]
    },
    {
     "name": "stdin",
     "output_type": "stream",
     "text": [
      "ipdb>  type(a)\n"
     ]
    },
    {
     "name": "stdout",
     "output_type": "stream",
     "text": [
      "*** NameError: name 'a' is not defined\n"
     ]
    },
    {
     "name": "stdin",
     "output_type": "stream",
     "text": [
      "ipdb>  type(value)\n"
     ]
    },
    {
     "name": "stdout",
     "output_type": "stream",
     "text": [
      "<class 'typing._SpecialForm'>\n"
     ]
    },
    {
     "name": "stdin",
     "output_type": "stream",
     "text": [
      "ipdb>  key\n"
     ]
    },
    {
     "name": "stdout",
     "output_type": "stream",
     "text": [
      "'a'\n"
     ]
    },
    {
     "name": "stdin",
     "output_type": "stream",
     "text": [
      "ipdb>  value\n"
     ]
    },
    {
     "name": "stdout",
     "output_type": "stream",
     "text": [
      "typing.Any\n"
     ]
    },
    {
     "name": "stdin",
     "output_type": "stream",
     "text": [
      "ipdb>  c\n"
     ]
    },
    {
     "name": "stdout",
     "output_type": "stream",
     "text": [
      "a <class 'typing._SpecialForm'>\n",
      "b <class 'type'>\n",
      "output <class 'str'>\n",
      "x <class 'dict'>\n",
      "__type__ <class 'str'>\n",
      "type <class 'str'>\n",
      "default <class 'str'>\n",
      "default_kwargs <class 'dict'>\n",
      "default_callback <class 'NoneType'>\n",
      "help <class 'str'>\n",
      "depends_on <class 'NoneType'>\n",
      "no_cache <class 'bool'>\n",
      "input <class 'str'>\n",
      "output <class 'str'>\n"
     ]
    }
   ],
   "source": [
    "inspect_output(xyz)"
   ]
  },
  {
   "cell_type": "code",
   "execution_count": 22,
   "id": "a61b1a37-c73b-47fd-8552-21e91b4a0904",
   "metadata": {},
   "outputs": [
    {
     "name": "stdout",
     "output_type": "stream",
     "text": [
      "<function Param.decorate.<locals>.inner.<locals>.<lambda> at 0x7fc5b6143a60>\n"
     ]
    }
   ],
   "source": [
    "func = xyz['params']['f']['default_callback']\n",
    "print(func)"
   ]
  },
  {
   "cell_type": "code",
   "execution_count": 16,
   "id": "dd781708-1a12-42dd-b829-6faa391e004a",
   "metadata": {},
   "outputs": [
    {
     "name": "stdout",
     "output_type": "stream",
     "text": [
      "type: __main__.Plus\n",
      "params:\n",
      "  a: 20\n",
      "  e: 20\n",
      "  f: 40\n",
      "nodes:\n",
      "  m:\n",
      "    type: __main__.Sum2\n",
      "    params:\n",
      "      a: 100\n",
      "    nodes: {}\n",
      "  x:\n",
      "    type: __main__.Sum1\n",
      "    params:\n",
      "      a: 20\n",
      "      b: 10\n",
      "      c: 10\n",
      "    nodes: {}\n",
      "  y:\n",
      "    type: __main__.Sum1\n",
      "    params:\n",
      "      a: 100\n",
      "      b: 10\n",
      "      c: 10\n",
      "    nodes: {}\n",
      "\n"
     ]
    }
   ],
   "source": [
    "step = Plus(a=20, e=20, x=Sum1(a=20))\n",
    "print(yaml.dump(step.dump(), sort_keys=False))"
   ]
  },
  {
   "cell_type": "code",
   "execution_count": 3,
   "id": "cf0f52af-1b07-411f-ba02-3c56186ac386",
   "metadata": {},
   "outputs": [
    {
     "data": {
      "text/plain": [
       "40"
      ]
     },
     "execution_count": 3,
     "metadata": {},
     "output_type": "execute_result"
    }
   ],
   "source": [
    "step.e(step, None)"
   ]
  },
  {
   "cell_type": "code",
   "execution_count": 9,
   "id": "148a58a0-1df0-4ea7-b7a9-59ce2ca272dd",
   "metadata": {},
   "outputs": [
    {
     "data": {
      "text/plain": [
       "<function __main__.callback(obj, type_)>"
      ]
     },
     "execution_count": 9,
     "metadata": {},
     "output_type": "execute_result"
    }
   ],
   "source": [
    "step.e"
   ]
  },
  {
   "cell_type": "code",
   "execution_count": 13,
   "id": "2110f3c1-8744-473b-8d22-cf97508366fc",
   "metadata": {},
   "outputs": [
    {
     "name": "stderr",
     "output_type": "stream",
     "text": [
      "Module __main__.callback is not allowed. Allowed modules are ['__main__.Plus', '__main__.Sum2', '__main__.Sum1']\n"
     ]
    }
   ],
   "source": [
    "modules = {\n",
    "    \"__main__.Plus\": Plus,\n",
    "    \"__main__.Sum2\": Sum2,\n",
    "    \"__main__.Sum1\": Sum1,\n",
    "}\n",
    "\n",
    "step2 = load(step.dump(), safe=True, allowed_modules=modules)"
   ]
  },
  {
   "cell_type": "code",
   "execution_count": 14,
   "id": "b23d0532-ecfd-4c14-8f60-940616a58849",
   "metadata": {},
   "outputs": [
    {
     "ename": "AttributeError",
     "evalue": "Parameter e is not set and has no default value",
     "output_type": "error",
     "traceback": [
      "\u001b[0;31m---------------------------------------------------------------------------\u001b[0m",
      "\u001b[0;31mAttributeError\u001b[0m                            Traceback (most recent call last)",
      "Cell \u001b[0;32mIn[14], line 1\u001b[0m\n\u001b[0;32m----> 1\u001b[0m \u001b[43mstep2\u001b[49m\u001b[38;5;241;43m.\u001b[39;49m\u001b[43me\u001b[49m\n",
      "File \u001b[0;32m~/theflow/theflow/base.py:135\u001b[0m, in \u001b[0;36mParam.__get__\u001b[0;34m(self, obj, type_)\u001b[0m\n\u001b[1;32m    133\u001b[0m     value \u001b[38;5;241m=\u001b[39m \u001b[38;5;28mself\u001b[39m\u001b[38;5;241m.\u001b[39m_default\n\u001b[1;32m    134\u001b[0m \u001b[38;5;28;01melse\u001b[39;00m:\n\u001b[0;32m--> 135\u001b[0m     \u001b[38;5;28;01mraise\u001b[39;00m \u001b[38;5;167;01mAttributeError\u001b[39;00m(\n\u001b[1;32m    136\u001b[0m         \u001b[38;5;124mf\u001b[39m\u001b[38;5;124m\"\u001b[39m\u001b[38;5;124mParameter \u001b[39m\u001b[38;5;132;01m{\u001b[39;00m\u001b[38;5;28mself\u001b[39m\u001b[38;5;241m.\u001b[39m_name\u001b[38;5;132;01m}\u001b[39;00m\u001b[38;5;124m is not set and has no default value\u001b[39m\u001b[38;5;124m\"\u001b[39m\n\u001b[1;32m    137\u001b[0m     )\n\u001b[1;32m    138\u001b[0m \u001b[38;5;66;03m# TODO: need type checking of default value\u001b[39;00m\n\u001b[1;32m    139\u001b[0m obj\u001b[38;5;241m.\u001b[39m__ff_params__[\u001b[38;5;28mself\u001b[39m\u001b[38;5;241m.\u001b[39m_name] \u001b[38;5;241m=\u001b[39m value\n",
      "\u001b[0;31mAttributeError\u001b[0m: Parameter e is not set and has no default value"
     ]
    }
   ],
   "source": [
    "step2.e"
   ]
  },
  {
   "cell_type": "code",
   "execution_count": 8,
   "id": "9efd3d15-a232-4a7f-8d63-6eee496ed3f6",
   "metadata": {},
   "outputs": [],
   "source": [
    "step2.a = 100"
   ]
  },
  {
   "cell_type": "code",
   "execution_count": 10,
   "id": "5e816a7f-92f8-4d02-9c2e-019a39ec8e20",
   "metadata": {},
   "outputs": [
    {
     "data": {
      "text/plain": [
       "40"
      ]
     },
     "execution_count": 10,
     "metadata": {},
     "output_type": "execute_result"
    }
   ],
   "source": [
    "step2.e(step, None)"
   ]
  },
  {
   "cell_type": "code",
   "execution_count": 3,
   "id": "4e82bfc2-1b60-4337-92a1-c2a2a1706a48",
   "metadata": {},
   "outputs": [
    {
     "name": "stdout",
     "output_type": "stream",
     "text": [
      "{'type': '__main__.Plus', 'params': {'a': 1000}, 'nodes': {'m': {'type': '__main__.Sum2', 'params': {'a': 100}, 'nodes': {}}, 'x': {'type': '__main__.Sum1', 'params': {'a': 20, 'b': 10, 'c': 10}, 'nodes': {}}, 'y': {'type': '__main__.Sum1', 'params': {'a': 100, 'b': 10, 'c': 10}, 'nodes': {}}}}\n"
     ]
    }
   ],
   "source": [
    "print(d)"
   ]
  },
  {
   "cell_type": "code",
   "execution_count": 4,
   "id": "088115ab-f5fb-4fd2-beb9-e153d5b5da68",
   "metadata": {},
   "outputs": [],
   "source": [
    "from theflow.base import compose_from_dict\n",
    "step2 = compose_from_dict(d)"
   ]
  },
  {
   "cell_type": "code",
   "execution_count": 9,
   "id": "1826a3b9-ab5b-486c-91ce-76930bde9b9b",
   "metadata": {},
   "outputs": [
    {
     "data": {
      "text/plain": [
       "{'type': '__main__.Plus',\n",
       " 'params': {'a': 1000},\n",
       " 'nodes': {'m': {'type': '__main__.Sum2', 'params': {'a': 100}, 'nodes': {}},\n",
       "  'x': {'type': '__main__.Sum1',\n",
       "   'params': {'a': 20, 'b': 10, 'c': 10},\n",
       "   'nodes': {}},\n",
       "  'y': {'type': '__main__.Sum1',\n",
       "   'params': {'a': 100, 'b': 10, 'c': 10},\n",
       "   'nodes': {}}}}"
      ]
     },
     "execution_count": 9,
     "metadata": {},
     "output_type": "execute_result"
    }
   ],
   "source": [
    "step2.export()"
   ]
  },
  {
   "cell_type": "markdown",
   "id": "742d2f6a-6423-4500-b6d9-f6f719e8fe9b",
   "metadata": {},
   "source": [
    "## View values of current nodes and params\n",
    "\n",
    "`theflow` allows viewing all values of current nodes and params with `.describe()`. This method returns a dictionary contains name and value of all nodes and params."
   ]
  },
  {
   "cell_type": "code",
   "execution_count": 3,
   "id": "3b657120-ff95-4612-b72e-94b970e4c90e",
   "metadata": {},
   "outputs": [],
   "source": [
    "from theflow.utils.paths import import_dotted_string"
   ]
  },
  {
   "cell_type": "code",
   "execution_count": 4,
   "id": "ba2766ca-293c-4630-ba2a-58cccd4f78db",
   "metadata": {},
   "outputs": [],
   "source": [
    "cl = import_dotted_string(\"__main__.Plus\")"
   ]
  },
  {
   "cell_type": "markdown",
   "id": "abb89330-ba0a-4a1f-953a-890a70d84bed",
   "metadata": {},
   "source": [
    "## View the definition of any node and param\n",
    "\n",
    "`theflow` allows getting the definition of a node or a param with `.specs(...)`:"
   ]
  },
  {
   "cell_type": "code",
   "execution_count": 3,
   "id": "a5b5e9ad-841c-41bb-a96e-8d48467cc400",
   "metadata": {},
   "outputs": [
    {
     "name": "stdout",
     "output_type": "stream",
     "text": [
      "Node m\n",
      "{'default': <class '__main__.Sum2'>,\n",
      " 'default_callback': None,\n",
      " 'default_kwargs': {'a': 100},\n",
      " 'depends_on': None,\n",
      " 'help': '',\n",
      " 'input': {'a': typing.Any, 'b': <class 'int'>},\n",
      " 'no_cache': False,\n",
      " 'output': <class 'int'>,\n",
      " 'type': 'node'}\n",
      "----------\n",
      "Param x.b\n",
      "{'__type__': 'param',\n",
      " 'default': 10,\n",
      " 'default_callback': None,\n",
      " 'depends_on': None,\n",
      " 'help': '',\n",
      " 'no_cache': False,\n",
      " 'refresh_on_set': False,\n",
      " 'strict_type': False}\n",
      "----------\n"
     ]
    }
   ],
   "source": [
    "print(\"Node m\")\n",
    "pprint(step.specs(\"m\"))\n",
    "print(\"-\" * 10)\n",
    "print(\"Param x.b\")\n",
    "pprint(step.specs(\"x.b\"))\n",
    "print(\"-\" * 10)"
   ]
  },
  {
   "cell_type": "markdown",
   "id": "b5c499b4-ffdf-4d47-a805-6016a37fbbf8",
   "metadata": {},
   "source": [
    "## Check if any object is compatible with the flow\n",
    "\n",
    "`theflow` will inspect the method `.run`'s input and output signature to determine if a component can be plug-n-play to an existing flow."
   ]
  },
  {
   "cell_type": "code",
   "execution_count": 4,
   "id": "f606264a-8f81-4ff4-8827-da702d7e328f",
   "metadata": {},
   "outputs": [
    {
     "name": "stdout",
     "output_type": "stream",
     "text": [
      "step.is_compatible('m', WrongInputName)=False\n",
      "step.is_compatible('m', MissingInputVariable)=False\n",
      "step.is_compatible('m', WrongInputType)=False\n",
      "step.is_compatible('m', WrongOutputType)=False\n",
      "step.is_compatible('m', CorrectExact)=True\n",
      "step.is_compatible('m', CorrectExtraArgs)=True\n",
      "step.is_compatible('m', CorrectMissingTypeAssumeTypeAny)=True\n"
     ]
    }
   ],
   "source": [
    "from typing import List\n",
    "\n",
    "class WrongInputName(Composable):\n",
    "    def run(self, x, b: int, *args, **kwargs):\n",
    "        return 10\n",
    "\n",
    "class MissingInputVariable(Composable):\n",
    "    def run(self, b: int, *args, **kwargs):\n",
    "        return 10\n",
    "\n",
    "class WrongInputType(Composable):\n",
    "    def run(self, a, b: List[int], *args, **kwargs):\n",
    "        return 10\n",
    "\n",
    "class WrongOutputType(Composable):\n",
    "    def run(self, a, b: int, *args, **kwargs) -> str:\n",
    "        return \"10\"\n",
    "\n",
    "class CorrectExact(Composable):\n",
    "    def run(self, a, b: int, *args, **kwargs) -> int:\n",
    "        return 10\n",
    "\n",
    "class CorrectExtraArgs(Composable):\n",
    "    def run(self, a, b: int, x, *args, **kwargs) -> int:\n",
    "        return 10\n",
    "\n",
    "class CorrectMissingTypeAssumeTypeAny(Composable):\n",
    "    def run(self, a, b, x, *args, **kwargs):\n",
    "        return 10\n",
    "\n",
    "print(f\"{step.is_compatible('m', WrongInputName)=}\")\n",
    "print(f\"{step.is_compatible('m', MissingInputVariable)=}\")\n",
    "print(f\"{step.is_compatible('m', WrongInputType)=}\")\n",
    "print(f\"{step.is_compatible('m', WrongOutputType)=}\")\n",
    "print(f\"{step.is_compatible('m', CorrectExact)=}\")\n",
    "print(f\"{step.is_compatible('m', CorrectExtraArgs)=}\")\n",
    "print(f\"{step.is_compatible('m', CorrectMissingTypeAssumeTypeAny)=}\")"
   ]
  },
  {
   "cell_type": "markdown",
   "id": "66c98ead-0cde-47a2-9567-9755d4850851",
   "metadata": {},
   "source": [
    "-------"
   ]
  }
 ],
 "metadata": {
  "kernelspec": {
   "display_name": "flow39",
   "language": "python",
   "name": "flow39"
  },
  "language_info": {
   "codemirror_mode": {
    "name": "ipython",
    "version": 3
   },
   "file_extension": ".py",
   "mimetype": "text/x-python",
   "name": "python",
   "nbconvert_exporter": "python",
   "pygments_lexer": "ipython3",
   "version": "3.9.17"
  }
 },
 "nbformat": 4,
 "nbformat_minor": 5
}
