{
 "cells": [
  {
   "cell_type": "markdown",
   "id": "7cdd8a38-5987-457c-b023-8e48f9392777",
   "metadata": {},
   "source": [
    "# Tutorial 4: Save and load Function"
   ]
  },
  {
   "cell_type": "markdown",
   "id": "081be466-dd7f-44da-8329-3b8606b99472",
   "metadata": {},
   "source": [
    "## Overview\n",
    "\n",
    "While constructing and using a flow, it's convenient to introspect the inner architecture of the flow to understand how it work and to ensure that we plug-n-play the right component into the flow. This capability can prove even more usefulness for those who don't build the flow and just use those that are packaged and distributed by other people.\n",
    "\n",
    "Any flow constructed with `theflow.Function` allow users to:\n",
    "\n",
    "- View values of all current nodes and params.\n",
    "- View the definition of any nodes and params.\n",
    "- Check if any object is compatible with the flow and can be plugged into the flow.\n",
    "- Visualize the flow architecture."
   ]
  },
  {
   "cell_type": "markdown",
   "id": "3c4942dd-598e-4528-9713-56bfcf034285",
   "metadata": {},
   "source": [
    "Suppose we have a flow `Plus` that consists of component `Sum1` and `Sum2` as follow:"
   ]
  },
  {
   "cell_type": "code",
   "execution_count": 1,
   "id": "bb02905b",
   "metadata": {},
   "outputs": [],
   "source": [
    "import yaml\n",
    "from pprint import pprint\n",
    "\n",
    "from theflow import Function, Param, Node, load\n",
    "\n",
    "\n",
    "def callback(obj, type_):\n",
    "    return obj.a * 2\n",
    "\n",
    "\n",
    "class Sum1(Function):\n",
    "    a: int\n",
    "    b: int = 10\n",
    "    c: int = 10\n",
    "    d: int = Param(default_callback=lambda obj: obj.b * 2)\n",
    "\n",
    "    def run(self) -> int:\n",
    "        return self.a + self.b + self.c\n",
    "\n",
    "\n",
    "class Sum2(Function):\n",
    "    a: int\n",
    "\n",
    "    def run(self, a, b: int, *args, **kwargs) -> int:\n",
    "        return self.a + a + b\n",
    "\n",
    "\n",
    "class Plus(Function):\n",
    "    a: int\n",
    "    e: int\n",
    "    x: Function\n",
    "    y: Function = Node(default=Sum1.withx(a=100))\n",
    "    m: Function = Node(default=Sum2.withx(a=100))\n",
    "\n",
    "    @Param.auto()\n",
    "    def f(self):\n",
    "        return self.a + self.e\n",
    "\n",
    "    def run(self) -> int:\n",
    "        x, y, m = self.x(), self.y(), self.m()\n",
    "        print(f\"{x=}, {y=}, {z=}\")\n",
    "        return x + y + z"
   ]
  },
  {
   "cell_type": "code",
   "execution_count": 2,
   "id": "dd781708-1a12-42dd-b829-6faa391e004a",
   "metadata": {},
   "outputs": [
    {
     "name": "stdout",
     "output_type": "stream",
     "text": [
      "type: __main__.Plus\n",
      "params:\n",
      "  a: 20\n",
      "  e: 20\n",
      "  f: 40\n",
      "nodes:\n",
      "  m:\n",
      "    type: __main__.Sum2\n",
      "    params:\n",
      "      a: 100\n",
      "    nodes: {}\n",
      "  x:\n",
      "    type: __main__.Sum1\n",
      "    params:\n",
      "      a: 20\n",
      "      b: 10\n",
      "      c: 10\n",
      "      d: 20\n",
      "    nodes: {}\n",
      "  y:\n",
      "    type: __main__.Sum1\n",
      "    params:\n",
      "      a: 100\n",
      "      b: 10\n",
      "      c: 10\n",
      "      d: 20\n",
      "    nodes: {}\n",
      "\n"
     ]
    }
   ],
   "source": [
    "step = Plus(a=20, e=20, x=Sum1(a=20))\n",
    "print(yaml.dump(step.dump(), sort_keys=False))"
   ]
  },
  {
   "cell_type": "code",
   "execution_count": 3,
   "id": "2110f3c1-8744-473b-8d22-cf97508366fc",
   "metadata": {},
   "outputs": [],
   "source": [
    "modules = {\n",
    "    \"__main__.Plus\": Plus,\n",
    "    \"__main__.Sum2\": Sum2,\n",
    "    \"__main__.Sum1\": Sum1,\n",
    "}\n",
    "\n",
    "step2 = load(step.dump(), safe=True, allowed_modules=modules)"
   ]
  },
  {
   "cell_type": "code",
   "execution_count": 4,
   "id": "1826a3b9-ab5b-486c-91ce-76930bde9b9b",
   "metadata": {},
   "outputs": [
    {
     "data": {
      "text/plain": [
       "{'type': '__main__.Plus',\n",
       " 'params': {'a': 20, 'e': 20, 'f': 40},\n",
       " 'nodes': {'m': {'type': '__main__.Sum2', 'params': {'a': 100}, 'nodes': {}},\n",
       "  'x': {'type': '__main__.Sum1',\n",
       "   'params': {'a': 20, 'b': 10, 'c': 10, 'd': 20},\n",
       "   'nodes': {}},\n",
       "  'y': {'type': '__main__.Sum1',\n",
       "   'params': {'a': 100, 'b': 10, 'c': 10, 'd': 20},\n",
       "   'nodes': {}}}}"
      ]
     },
     "execution_count": 4,
     "metadata": {},
     "output_type": "execute_result"
    }
   ],
   "source": [
    "step2.dump()"
   ]
  },
  {
   "cell_type": "markdown",
   "id": "66c98ead-0cde-47a2-9567-9755d4850851",
   "metadata": {},
   "source": [
    "-------"
   ]
  }
 ],
 "metadata": {
  "kernelspec": {
   "display_name": "flow39",
   "language": "python",
   "name": "flow39"
  },
  "language_info": {
   "codemirror_mode": {
    "name": "ipython",
    "version": 3
   },
   "file_extension": ".py",
   "mimetype": "text/x-python",
   "name": "python",
   "nbconvert_exporter": "python",
   "pygments_lexer": "ipython3",
   "version": "3.9.17"
  }
 },
 "nbformat": 4,
 "nbformat_minor": 5
}
